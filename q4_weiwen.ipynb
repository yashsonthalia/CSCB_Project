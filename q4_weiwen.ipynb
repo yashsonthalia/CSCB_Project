{
 "cells": [
  {
   "cell_type": "markdown",
   "metadata": {},
   "source": [
    "# CSCB Project"
   ]
  },
  {
   "cell_type": "code",
   "execution_count": 1,
   "metadata": {},
   "outputs": [
    {
     "name": "stderr",
     "output_type": "stream",
     "text": [
      "/Users/wvcui/opt/anaconda3/lib/python3.9/site-packages/statsmodels/tsa/base/tsa_model.py:7: FutureWarning: pandas.Int64Index is deprecated and will be removed from pandas in a future version. Use pandas.Index with the appropriate dtype instead.\n",
      "  from pandas import (to_datetime, Int64Index, DatetimeIndex, Period,\n",
      "/Users/wvcui/opt/anaconda3/lib/python3.9/site-packages/statsmodels/tsa/base/tsa_model.py:7: FutureWarning: pandas.Float64Index is deprecated and will be removed from pandas in a future version. Use pandas.Index with the appropriate dtype instead.\n",
      "  from pandas import (to_datetime, Int64Index, DatetimeIndex, Period,\n"
     ]
    }
   ],
   "source": [
    "import pandas as pd\n",
    "import matplotlib\n",
    "import matplotlib.pyplot as plt\n",
    "import seaborn as sns \n",
    "import scanpy as sc\n",
    "import scipy as sp\n",
    "import numpy as np\n",
    "import anndata\n",
    "import pySingleCellNet as pySCN\n",
    "sns.set_style('white')"
   ]
  },
  {
   "cell_type": "markdown",
   "metadata": {},
   "source": [
    "## Read in Data"
   ]
  },
  {
   "cell_type": "code",
   "execution_count": 2,
   "metadata": {},
   "outputs": [],
   "source": [
    "# read in data\n",
    "#mcm raw is our engineered mouse cardiomyocytes\n",
    "adata_mcm_raw=sc.read_h5ad('/Users/wvcui/Desktop/OneDrive - Johns Hopkins/Sp22/Comp SC/final proj/direct_conversion_subsampled_5k_raw.h5ad')\n",
    "\n",
    "#this is the reference dataset from the tabula muris study\n",
    "adata_tabmuris=sc.read_h5ad('/Users/wvcui/Desktop/OneDrive - Johns Hopkins/Sp22/Comp SC/final proj/TM_FACS_heart.h5ad')"
   ]
  },
  {
   "cell_type": "code",
   "execution_count": 3,
   "metadata": {},
   "outputs": [],
   "source": [
    "# metadata was labeled as batch, translating this to timepoint\n",
    "adata_mcm_raw.obs['Timepoint (days)']=adata_mcm_raw.obs['batch'].map({'1':'-1','2':'1','3':'2','4':'3','5':'7','6':'14'})"
   ]
  },
  {
   "cell_type": "code",
   "execution_count": 8,
   "metadata": {},
   "outputs": [
    {
     "data": {
      "text/html": [
       "<div>\n",
       "<style scoped>\n",
       "    .dataframe tbody tr th:only-of-type {\n",
       "        vertical-align: middle;\n",
       "    }\n",
       "\n",
       "    .dataframe tbody tr th {\n",
       "        vertical-align: top;\n",
       "    }\n",
       "\n",
       "    .dataframe thead th {\n",
       "        text-align: right;\n",
       "    }\n",
       "</style>\n",
       "<table border=\"1\" class=\"dataframe\">\n",
       "  <thead>\n",
       "    <tr style=\"text-align: right;\">\n",
       "      <th></th>\n",
       "    </tr>\n",
       "  </thead>\n",
       "  <tbody>\n",
       "    <tr>\n",
       "      <th>0610005C13Rik</th>\n",
       "    </tr>\n",
       "    <tr>\n",
       "      <th>0610007C21Rik</th>\n",
       "    </tr>\n",
       "    <tr>\n",
       "      <th>0610007L01Rik</th>\n",
       "    </tr>\n",
       "    <tr>\n",
       "      <th>0610007N19Rik</th>\n",
       "    </tr>\n",
       "    <tr>\n",
       "      <th>0610007P08Rik</th>\n",
       "    </tr>\n",
       "    <tr>\n",
       "      <th>...</th>\n",
       "    </tr>\n",
       "    <tr>\n",
       "      <th>Zzef1</th>\n",
       "    </tr>\n",
       "    <tr>\n",
       "      <th>Zzz3</th>\n",
       "    </tr>\n",
       "    <tr>\n",
       "      <th>a</th>\n",
       "    </tr>\n",
       "    <tr>\n",
       "      <th>l7Rn6</th>\n",
       "    </tr>\n",
       "    <tr>\n",
       "      <th>zsGreen_transgene</th>\n",
       "    </tr>\n",
       "  </tbody>\n",
       "</table>\n",
       "<p>23433 rows × 0 columns</p>\n",
       "</div>"
      ],
      "text/plain": [
       "Empty DataFrame\n",
       "Columns: []\n",
       "Index: [0610005C13Rik, 0610007C21Rik, 0610007L01Rik, 0610007N19Rik, 0610007P08Rik, 0610007P14Rik, 0610007P22Rik, 0610008F07Rik, 0610009B14Rik, 0610009B22Rik, 0610009D07Rik, 0610009L18Rik, 0610009O20Rik, 0610010B08Rik, 0610010F05Rik, 0610010K14Rik, 0610010O12Rik, 0610011F06Rik, 0610011L14Rik, 0610012G03Rik, 0610012H03Rik, 0610030E20Rik, 0610031J06Rik, 0610031O16Rik, 0610037L13Rik, 0610037P05Rik, 0610038B21Rik, 0610038L08Rik, 0610039K10Rik, 0610040B10Rik, 0610040F04Rik, 0610040J01Rik, 0610043K17Rik, 0910001L09Rik, 100043387, 1100001G20Rik, 1110001A16Rik, 1110001J03Rik, 1110002B05Rik, 1110002L01Rik, 1110002N22Rik, 1110003E01Rik, 1110004E09Rik, 1110004F10Rik, 1110005A03Rik, 1110006O24Rik, 1110007C09Rik, 1110008F13Rik, 1110008J03Rik, 1110008L16Rik, 1110008P14Rik, 1110012J17Rik, 1110012L19Rik, 1110014N23Rik, 1110015O18Rik, 1110017D15Rik, 1110017F19Rik, 1110018G07Rik, 1110018J18Rik, 1110019D14Rik, 1110020A21Rik, 1110020G09Rik, 1110021J02Rik, 1110021L09Rik, 1110028C15Rik, 1110028F11Rik, 1110028F18Rik, 1110031I02Rik, 1110032A03Rik, 1110032A04Rik, 1110032F04Rik, 1110034A24Rik, 1110034B05Rik, 1110034G24Rik, 1110035M17Rik, 1110036E04Rik, 1110037F02Rik, 1110038B12Rik, 1110038D17Rik, 1110038F14Rik, 1110046J04Rik, 1110049F12Rik, 1110050K14Rik, 1110051M20Rik, 1110054M08Rik, 1110054O05Rik, 1110057K04Rik, 1110058L19Rik, 1110059E24Rik, 1110059G10Rik, 1110059M19Rik, 1110065P20Rik, 1110067D22Rik, 1190002F15Rik, 1190002H23Rik, 1190002N15Rik, 1190003J15Rik, 1190003K10Rik, 1190005F20Rik, 1190005I06Rik, ...]\n",
       "\n",
       "[23433 rows x 0 columns]"
      ]
     },
     "execution_count": 8,
     "metadata": {},
     "output_type": "execute_result"
    }
   ],
   "source": [
    "adata_tabmuris.var"
   ]
  },
  {
   "cell_type": "code",
   "execution_count": 6,
   "metadata": {},
   "outputs": [],
   "source": [
    "human = sc.read_h5ad('/Users/wvcui/Desktop/OneDrive - Johns Hopkins/Sp22/Comp SC/final proj/human_engineered_cardiomyocytes/hIPSC_CM_orlova_GSM4443382.h5ad')"
   ]
  },
  {
   "cell_type": "code",
   "execution_count": 7,
   "metadata": {},
   "outputs": [
    {
     "data": {
      "text/html": [
       "<div>\n",
       "<style scoped>\n",
       "    .dataframe tbody tr th:only-of-type {\n",
       "        vertical-align: middle;\n",
       "    }\n",
       "\n",
       "    .dataframe tbody tr th {\n",
       "        vertical-align: top;\n",
       "    }\n",
       "\n",
       "    .dataframe thead th {\n",
       "        text-align: right;\n",
       "    }\n",
       "</style>\n",
       "<table border=\"1\" class=\"dataframe\">\n",
       "  <thead>\n",
       "    <tr style=\"text-align: right;\">\n",
       "      <th></th>\n",
       "      <th>gene_ids</th>\n",
       "    </tr>\n",
       "  </thead>\n",
       "  <tbody>\n",
       "    <tr>\n",
       "      <th>RP11-34P13.3</th>\n",
       "      <td>ENSG00000243485</td>\n",
       "    </tr>\n",
       "    <tr>\n",
       "      <th>FAM138A</th>\n",
       "      <td>ENSG00000237613</td>\n",
       "    </tr>\n",
       "    <tr>\n",
       "      <th>OR4F5</th>\n",
       "      <td>ENSG00000186092</td>\n",
       "    </tr>\n",
       "    <tr>\n",
       "      <th>RP11-34P13.7</th>\n",
       "      <td>ENSG00000238009</td>\n",
       "    </tr>\n",
       "    <tr>\n",
       "      <th>RP11-34P13.8</th>\n",
       "      <td>ENSG00000239945</td>\n",
       "    </tr>\n",
       "    <tr>\n",
       "      <th>...</th>\n",
       "      <td>...</td>\n",
       "    </tr>\n",
       "    <tr>\n",
       "      <th>AC233755.2</th>\n",
       "      <td>ENSG00000277856</td>\n",
       "    </tr>\n",
       "    <tr>\n",
       "      <th>AC233755.1</th>\n",
       "      <td>ENSG00000275063</td>\n",
       "    </tr>\n",
       "    <tr>\n",
       "      <th>AC240274.1</th>\n",
       "      <td>ENSG00000271254</td>\n",
       "    </tr>\n",
       "    <tr>\n",
       "      <th>AC213203.1</th>\n",
       "      <td>ENSG00000277475</td>\n",
       "    </tr>\n",
       "    <tr>\n",
       "      <th>FAM231B</th>\n",
       "      <td>ENSG00000268674</td>\n",
       "    </tr>\n",
       "  </tbody>\n",
       "</table>\n",
       "<p>33694 rows × 1 columns</p>\n",
       "</div>"
      ],
      "text/plain": [
       "                     gene_ids\n",
       "RP11-34P13.3  ENSG00000243485\n",
       "FAM138A       ENSG00000237613\n",
       "OR4F5         ENSG00000186092\n",
       "RP11-34P13.7  ENSG00000238009\n",
       "RP11-34P13.8  ENSG00000239945\n",
       "...                       ...\n",
       "AC233755.2    ENSG00000277856\n",
       "AC233755.1    ENSG00000275063\n",
       "AC240274.1    ENSG00000271254\n",
       "AC213203.1    ENSG00000277475\n",
       "FAM231B       ENSG00000268674\n",
       "\n",
       "[33694 rows x 1 columns]"
      ]
     },
     "execution_count": 7,
     "metadata": {},
     "output_type": "execute_result"
    }
   ],
   "source": [
    "human.var"
   ]
  },
  {
   "cell_type": "code",
   "execution_count": 7,
   "metadata": {},
   "outputs": [],
   "source": [
    "#mt and ribo genes, qc metrics\n",
    "adata_mcm_raw.var['mt']= adata_mcm_raw.var_names.str.startswith((\"mt-\"))\n",
    "adata_mcm_raw.var['ribo'] = adata_mcm_raw.var_names.str.startswith((\"Rps\",\"Rpl\"))\n",
    "sc.pp.calculate_qc_metrics(adata_mcm_raw, qc_vars=['ribo', 'mt'], percent_top=None, log1p=False, inplace=True)"
   ]
  },
  {
   "cell_type": "code",
   "execution_count": 8,
   "metadata": {},
   "outputs": [],
   "source": [
    "#mt and ribo genes, qc metrics\n",
    "human.var['mt']= human.var_names.str.startswith((\"mt-\"))\n",
    "human.var['ribo'] = human.var_names.str.startswith((\"Rps\",\"Rpl\"))\n",
    "sc.pp.calculate_qc_metrics(human, qc_vars=['ribo', 'mt'], percent_top=None, log1p=False, inplace=True)"
   ]
  },
  {
   "cell_type": "markdown",
   "metadata": {},
   "source": [
    "## Q1"
   ]
  },
  {
   "cell_type": "code",
   "execution_count": 10,
   "metadata": {},
   "outputs": [],
   "source": [
    "#finding matching genes between datasets\n",
    "genesTrain = adata_tabmuris.var_names\n",
    "genesQuery = human.var_names\n",
    "cgenes = genesTrain.intersection(genesQuery)\n",
    "#around 14k genes remanining"
   ]
  },
  {
   "cell_type": "code",
   "execution_count": 11,
   "metadata": {},
   "outputs": [],
   "source": [
    "#subsetting for common genes\n",
    "adata_reference_cgene = adata_tabmuris[:,cgenes]\n",
    "human = human[:,cgenes].copy()\n",
    "\n",
    "#following the pyscCellNet vignette on github. im guessing cells with more than 500 \n",
    "#adata_mcm_classifier = adata_mcm_raw[adata_mcm_raw.obs[\"n_genes_by_counts\"]>=500,:].copy()\n",
    "\n",
    "human_classifier = human[human.obs[\"n_genes_by_counts\"]>=500,:].copy()\n",
    "\n"
   ]
  },
  {
   "cell_type": "code",
   "execution_count": 12,
   "metadata": {},
   "outputs": [
    {
     "data": {
      "text/plain": [
       "['endothelial cell', 'leukocyte', 'fibroblast', 'myofibroblast cell', 'endocardial cell', 'cardiac muscle cell', 'smooth muscle cell']\n",
       "Categories (7, object): ['cardiac muscle cell', 'endocardial cell', 'endothelial cell', 'fibroblast', 'leukocyte', 'myofibroblast cell', 'smooth muscle cell']"
      ]
     },
     "execution_count": 12,
     "metadata": {},
     "output_type": "execute_result"
    }
   ],
   "source": [
    "adata_reference_cgene.obs['cell_ontology_class'].unique()"
   ]
  },
  {
   "cell_type": "code",
   "execution_count": 17,
   "metadata": {},
   "outputs": [
    {
     "name": "stdout",
     "output_type": "stream",
     "text": [
      "fibroblast : \n",
      "2119\n",
      "cardiac muscle cell : \n",
      "133\n",
      "myofibroblast cell : \n",
      "178\n",
      "endothelial cell : \n",
      "1177\n",
      "endocardial cell : \n",
      "165\n",
      "leukocyte : \n",
      "523\n",
      "smooth muscle cell : \n",
      "42\n"
     ]
    }
   ],
   "source": [
    "expTrain, expVal = pySCN.splitCommonAnnData(adata_reference_cgene, ncells=200,dLevel='cell_ontology_class')\n",
    "\n"
   ]
  },
  {
   "cell_type": "code",
   "execution_count": 18,
   "metadata": {},
   "outputs": [
    {
     "name": "stdout",
     "output_type": "stream",
     "text": [
      "HVG\n"
     ]
    },
    {
     "ename": "KeyError",
     "evalue": "\"['A1.B000633.3_56_F.1.1', 'A1.B000634.3_56_F.1.1', 'A1.B002427.3_39_F.1.1', 'A1.B002428.3_38_F.1.1', 'A10.MAA000398.3_9_M.1.1', 'A10.MAA000586.3_8_M.1.1', 'A10.MAA000936.3_9_M.1.1', 'A11.B000636.3_56_F.1.1', 'A11.B002010.3_39_F.1.1', 'A11.MAA000398.3_9_M.1.1', 'A12.B000636.3_56_F.1.1', 'A12.MAA100037.3_11_M.1.1', 'A13.MAA000398.3_9_M.1.1', 'A13.MAA000903.3_11_M.1.1', 'A14.B000633.3_56_F.1.1', 'A14.B002010.3_39_F.1.1', 'A16.B000633.3_56_F.1.1', 'A16.B002423.3_39_F.1.1', 'A16.B002428.3_38_F.1.1', 'A16.MAA000936.3_9_M.1.1', 'A17.B000636.3_56_F.1.1', 'A18.B002011.3_38_F.1.1', 'A19.B000633.3_56_F.1.1', 'A19.B002428.3_38_F.1.1', 'A19.B002429.3_38_F.1.1', 'A19.MAA000903.3_11_M.1.1', 'A2.MAA000587.3_8_M.1.1', 'A2.MAA000920.3_11_M.1.1', 'A2.MAA100037.3_10_M.1.1', 'A20.B000412.3_56_F.1.1', 'A20.MAA000586.3_8_M.1.1', 'A21.B002429.3_38_F.1.1', 'A22.MAA000398.3_9_M.1.1', 'A4.MAA000918.3_10_M.1.1', 'A6.MAA000918.3_10_M.1.1', 'A7.B000633.3_56_F.1.1', 'A7.B002423.3_39_F.1.1', 'A7.MAA000400.3_8_M.1.1', 'A7.MAA000936.3_9_M.1.1', 'A7.MAA100037.3_11_M.1.1', 'A8.B002428.3_38_F.1.1', 'A8.MAA100097.3_39_F.1.1', 'A9.B000634.3_56_F.1.1', 'A9.MAA000398.3_9_M.1.1', 'A9.MAA100037.3_11_M.1.1', 'B1.B000636.3_56_F.1.1', 'B1.B002428.3_38_F.1.1', 'B1.MAA100037.3_10_M.1.1', 'B1.MAA100096.3_38_F.1.1', 'B10.B000633.3_56_F.1.1', 'B11.B002421.3_39_F.1.1', 'B11.MAA000903.3_11_M.1.1', 'B11.MAA000920.3_11_M.1.1', 'B12.B002429.3_38_F.1.1', 'B12.MAA000399.3_9_M.1.1', 'B13.B000412.3_56_F.1.1', 'B13.B002010.3_39_F.1.1', 'B13.B002423.3_39_F.1.1', 'B14.B002011.3_38_F.1.1', 'B14.B002421.3_39_F.1.1', 'B14.MAA000586.3_8_M.1.1', 'B14.MAA000901.3_10_M.1.1', 'B14.MAA000920.3_11_M.1.1', 'B15.B000634.3_56_F.1.1', 'B15.B002429.3_38_F.1.1', 'B16.B002011.3_38_F.1.1', 'B16.B002421.3_39_F.1.1', 'B16.MAA000903.3_11_M.1.1', 'B17.B002421.3_39_F.1.1', 'B18.B000412.3_56_F.1.1', 'B18.B000633.3_56_F.1.1', 'B18.MAA000398.3_9_M.1.1', 'B18.MAA000920.3_11_M.1.1', 'B19.B002421.3_39_F.1.1', 'B19.MAA000586.3_8_M.1.1', 'B19.MAA000936.3_9_M.1.1', 'B2.B002010.3_39_F.1.1', 'B2.MAA000919.3_10_M.1.1', 'B2.MAA100096.3_38_F.1.1', 'B20.B000634.3_56_F.1.1', 'B20.B000636.3_56_F.1.1', 'B20.B002010.3_39_F.1.1', 'B20.B002011.3_38_F.1.1', 'B20.B002428.3_38_F.1.1', 'B20.MAA000903.3_11_M.1.1', 'B21.B000633.3_56_F.1.1', 'B21.B002010.3_39_F.1.1', 'B21.B002011.3_38_F.1.1', 'B21.MAA000589.3_9_M.1.1', 'B22.B000412.3_56_F.1.1', 'B22.B000633.3_56_F.1.1', 'B22.B002421.3_39_F.1.1', 'B22.MAA000918.3_10_M.1.1', 'B3.MAA000586.3_8_M.1.1', 'B4.B002010.3_39_F.1.1', 'B4.B002427.3_39_F.1.1', 'B4.MAA000589.3_9_M.1.1', 'B5.B002427.3_39_F.1.1', 'B5.MAA100037.3_10_M.1.1', 'B6.B002429.3_38_F.1.1', 'B6.MAA000400.3_8_M.1.1', 'B6.MAA000936.3_9_M.1.1', 'B6.MAA100096.3_39_F.1.1', 'B7.MAA100037.3_11_M.1.1', 'B8.MAA000589.3_9_M.1.1', 'B8.MAA100037.3_11_M.1.1', 'B9.B002010.3_39_F.1.1', 'B9.B002427.3_39_F.1.1', 'B9.B002428.3_38_F.1.1', 'B9.MAA000936.3_9_M.1.1', 'C1.B002010.3_39_F.1.1', 'C1.MAA000452.3_8_M.1.1', 'C10.MAA000398.3_9_M.1.1', 'C11.B002429.3_38_F.1.1', 'C11.MAA000901.3_10_M.1.1', 'C12.B002427.3_39_F.1.1', 'C14.MAA000936.3_9_M.1.1', 'C15.B002423.3_39_F.1.1', 'C15.B002429.3_38_F.1.1', 'C15.MAA000936.3_9_M.1.1', 'C16.MAA000901.3_10_M.1.1', 'C16.MAA000903.3_11_M.1.1', 'C17.B002428.3_38_F.1.1', 'C17.MAA000398.3_9_M.1.1', 'C18.B002429.3_38_F.1.1', 'C18.MAA000903.3_11_M.1.1', 'C19.B002423.3_39_F.1.1', 'C19.B002427.3_39_F.1.1', 'C2.MAA000901.3_10_M.1.1', 'C20.B002011.3_38_F.1.1', 'C20.MAA000586.3_8_M.1.1', 'C21.MAA000918.3_10_M.1.1', 'C22.B000633.3_56_F.1.1', 'C22.B002429.3_38_F.1.1', 'C3.MAA100096.3_38_F.1.1', 'C4.B002423.3_39_F.1.1', 'C4.MAA000898.3_11_M.1.1', 'C4.MAA100097.3_38_F.1.1', 'C5.B002423.3_39_F.1.1', 'C5.MAA000452.3_8_M.1.1', 'C5.MAA000587.3_8_M.1.1', 'C5.MAA100096.3_39_F.1.1', 'C5.MAA100097.3_39_F.1.1', 'C6.B002011.3_38_F.1.1', 'C6.MAA000918.3_10_M.1.1', 'C7.B002010.3_39_F.1.1', 'C9.B002421.3_39_F.1.1', 'D10.MAA000936.3_9_M.1.1', 'D11.MAA000452.3_8_M.1.1', 'D11.MAA000903.3_11_M.1.1', 'D12.B002421.3_39_F.1.1', 'D12.MAA000586.3_8_M.1.1', 'D13.B002423.3_39_F.1.1', 'D13.B002428.3_38_F.1.1', 'D13.MAA000918.3_10_M.1.1', 'D14.MAA000936.3_9_M.1.1', 'D15.B000412.3_56_F.1.1', 'D15.B002010.3_39_F.1.1', 'D15.B002429.3_38_F.1.1', 'D16.B002010.3_39_F.1.1', 'D17.B002427.3_39_F.1.1', 'D18.B000633.3_56_F.1.1', 'D18.B002428.3_38_F.1.1', 'D18.MAA000901.3_10_M.1.1', 'D19.MAA000901.3_10_M.1.1', 'D2.MAA000452.3_8_M.1.1', 'D2.MAA000920.3_11_M.1.1', 'D2.MAA100096.3_38_F.1.1', 'D20.B002423.3_39_F.1.1', 'D22.B002010.3_39_F.1.1', 'D22.B002428.3_38_F.1.1', 'D22.MAA000586.3_8_M.1.1', 'D22.MAA000901.3_10_M.1.1', 'D3.MAA000898.3_11_M.1.1', 'D3.MAA000903.3_11_M.1.1', 'D5.B000633.3_56_F.1.1', 'D5.B002010.3_39_F.1.1', 'D6.B000636.3_56_F.1.1', 'D6.MAA000400.3_8_M.1.1', 'D6.MAA000586.3_8_M.1.1', 'D6.MAA000901.3_10_M.1.1', 'D6.MAA100037.3_10_M.1.1', 'D7.MAA100037.3_11_M.1.1', 'D8.MAA000452.3_8_M.1.1', 'D8.MAA000920.3_11_M.1.1', 'D8.MAA000936.3_9_M.1.1', 'D8.MAA100097.3_39_F.1.1', 'D9.MAA000452.3_8_M.1.1', 'D9.MAA000587.3_8_M.1.1', 'D9.MAA000920.3_11_M.1.1', 'E1.B002428.3_38_F.1.1', 'E1.MAA000920.3_11_M.1.1', 'E11.B000634.3_56_F.1.1', 'E11.B000636.3_56_F.1.1', 'E11.B002423.3_39_F.1.1', 'E11.MAA100037.3_11_M.1.1', 'E13.B000412.3_56_F.1.1', 'E13.MAA000398.3_9_M.1.1', 'E13.MAA000452.3_8_M.1.1', 'E13.MAA000903.3_11_M.1.1', 'E13.MAA000919.3_10_M.1.1', 'E14.B000634.3_56_F.1.1', 'E14.B002428.3_38_F.1.1', 'E14.MAA000898.3_11_M.1.1', 'E15.B000412.3_56_F.1.1', 'E15.B000633.3_56_F.1.1', 'E16.B000633.3_56_F.1.1', 'E16.B002010.3_39_F.1.1', 'E16.MAA000399.3_9_M.1.1', 'E17.MAA000587.3_8_M.1.1', 'E18.MAA000918.3_10_M.1.1', 'E19.B000634.3_56_F.1.1', 'E20.B000633.3_56_F.1.1', 'E20.MAA000587.3_8_M.1.1', 'E21.B000412.3_56_F.1.1', 'E21.B002421.3_39_F.1.1', 'E21.B002427.3_39_F.1.1', 'E22.B000633.3_56_F.1.1', 'E22.B002423.3_39_F.1.1', 'E22.MAA000917.3_11_M.1.1', 'E22.MAA000919.3_10_M.1.1', 'E3.B000633.3_56_F.1.1', 'E3.MAA000400.3_8_M.1.1', 'E4.B000636.3_56_F.1.1', 'E4.MAA000400.3_8_M.1.1', 'E4.MAA000452.3_8_M.1.1', 'E4.MAA000589.3_9_M.1.1', 'E5.B002427.3_39_F.1.1', 'E5.B002428.3_38_F.1.1', 'E5.MAA000400.3_8_M.1.1', 'E5.MAA000918.3_10_M.1.1', 'E5.MAA100037.3_10_M.1.1', 'E7.B002428.3_38_F.1.1', 'E7.MAA000398.3_9_M.1.1', 'E8.B000633.3_56_F.1.1', 'E8.B002421.3_39_F.1.1', 'E8.B002429.3_38_F.1.1', 'E9.B000636.3_56_F.1.1', 'E9.B002010.3_39_F.1.1', 'E9.MAA000903.3_11_M.1.1', 'F1.MAA100096.3_38_F.1.1', 'F10.B000633.3_56_F.1.1', 'F10.MAA000398.3_9_M.1.1', 'F10.MAA000903.3_11_M.1.1', 'F11.B002010.3_39_F.1.1', 'F11.MAA100037.3_11_M.1.1', 'F12.MAA000936.3_9_M.1.1', 'F13.B000633.3_56_F.1.1', 'F13.MAA000936.3_9_M.1.1', 'F14.MAA000587.3_8_M.1.1', 'F15.B002423.3_39_F.1.1', 'F15.MAA000398.3_9_M.1.1', 'F15.MAA000586.3_8_M.1.1', 'F15.MAA000919.3_10_M.1.1', 'F16.B002010.3_39_F.1.1', 'F16.MAA000452.3_8_M.1.1', 'F17.B000633.3_56_F.1.1', 'F17.B002010.3_39_F.1.1', 'F17.B002427.3_39_F.1.1', 'F17.MAA000398.3_9_M.1.1', 'F19.B002423.3_39_F.1.1', 'F19.MAA000400.3_8_M.1.1', 'F2.MAA000400.3_8_M.1.1', 'F2.MAA000586.3_8_M.1.1', 'F2.MAA100096.3_38_F.1.1', 'F20.B000633.3_56_F.1.1', 'F21.B002010.3_39_F.1.1', 'F21.MAA000901.3_10_M.1.1', 'F21.MAA000903.3_11_M.1.1', 'F22.B002429.3_38_F.1.1', 'F22.MAA000400.3_8_M.1.1', 'F22.MAA000899.3_10_M.1.1', 'F22.MAA000901.3_10_M.1.1', 'F3.MAA000400.3_8_M.1.1', 'F3.MAA000587.3_8_M.1.1', 'F3.MAA000936.3_9_M.1.1', 'F3.MAA100037.3_10_M.1.1', 'F3.MAA100097.3_38_F.1.1', 'F5.B002421.3_39_F.1.1', 'F6.B002011.3_38_F.1.1', 'F6.B002427.3_39_F.1.1', 'F6.MAA000398.3_9_M.1.1', 'F6.MAA100037.3_10_M.1.1', 'F6.MAA100096.3_39_F.1.1', 'F8.B002423.3_39_F.1.1', 'F8.MAA000586.3_8_M.1.1', 'F9.MAA000452.3_8_M.1.1', 'F9.MAA000901.3_10_M.1.1', 'G1.B000634.3_56_F.1.1', 'G1.MAA000399.3_9_M.1.1', 'G11.MAA000398.3_9_M.1.1', 'G12.B002421.3_39_F.1.1', 'G12.B002423.3_39_F.1.1', 'G13.B000412.3_56_F.1.1', 'G13.MAA000589.3_9_M.1.1', 'G14.B000412.3_56_F.1.1', 'G14.B002011.3_38_F.1.1', 'G14.MAA000589.3_9_M.1.1', 'G17.MAA000398.3_9_M.1.1', 'G17.MAA000587.3_8_M.1.1', 'G17.MAA000903.3_11_M.1.1', 'G18.B000633.3_56_F.1.1', 'G18.B002427.3_39_F.1.1', 'G19.MAA000586.3_8_M.1.1', 'G2.B002011.3_38_F.1.1', 'G2.MAA000917.3_11_M.1.1', 'G20.B002423.3_39_F.1.1', 'G20.MAA000398.3_9_M.1.1', 'G21.B002429.3_38_F.1.1', 'G21.MAA000452.3_8_M.1.1', 'G21.MAA000936.3_9_M.1.1', 'G22.B002427.3_39_F.1.1', 'G22.MAA000901.3_10_M.1.1', 'G22.MAA000920.3_11_M.1.1', 'G22.MAA000936.3_9_M.1.1', 'G3.B000633.3_56_F.1.1', 'G3.B002423.3_39_F.1.1', 'G3.MAA000898.3_11_M.1.1', 'G5.B002010.3_39_F.1.1', 'G5.MAA000936.3_9_M.1.1', 'G6.B000633.3_56_F.1.1', 'G6.B000634.3_56_F.1.1', 'G7.B000412.3_56_F.1.1', 'G7.B002421.3_39_F.1.1', 'G7.MAA000587.3_8_M.1.1', 'G7.MAA100097.3_39_F.1.1', 'G8.B002428.3_38_F.1.1', 'H10.B000633.3_56_F.1.1', 'H10.MAA000452.3_8_M.1.1', 'H10.MAA000586.3_8_M.1.1', 'H10.MAA000903.3_11_M.1.1', 'H11.B002428.3_38_F.1.1', 'H12.B000633.3_56_F.1.1', 'H12.B002010.3_39_F.1.1', 'H12.MAA000452.3_8_M.1.1', 'H13.B002010.3_39_F.1.1', 'H14.B000634.3_56_F.1.1', 'H14.B002423.3_39_F.1.1', 'H14.MAA000903.3_11_M.1.1', 'H15.B002011.3_38_F.1.1', 'H15.MAA000398.3_9_M.1.1', 'H15.MAA000399.3_9_M.1.1', 'H16.B002010.3_39_F.1.1', 'H16.B002428.3_38_F.1.1', 'H16.MAA000586.3_8_M.1.1', 'H16.MAA000589.3_9_M.1.1', 'H16.MAA000903.3_11_M.1.1', 'H17.B000636.3_56_F.1.1', 'H17.B002010.3_39_F.1.1', 'H17.B002429.3_38_F.1.1', 'H17.MAA000452.3_8_M.1.1', 'H18.B002428.3_38_F.1.1', 'H2.MAA000903.3_11_M.1.1', 'H20.MAA000589.3_9_M.1.1', 'H3.B000633.3_56_F.1.1', 'H3.MAA100096.3_38_F.1.1', 'H5.B002421.3_39_F.1.1', 'H6.B000412.3_56_F.1.1', 'H7.B002427.3_39_F.1.1', 'H8.B002010.3_39_F.1.1', 'H8.B002428.3_38_F.1.1', 'I10.B000634.3_56_F.1.1', 'I10.B002011.3_38_F.1.1', 'I11.B000633.3_56_F.1.1', 'I11.B002428.3_38_F.1.1', 'I12.B000634.3_56_F.1.1', 'I12.B002421.3_39_F.1.1', 'I12.B002423.3_39_F.1.1', 'I13.B002010.3_39_F.1.1', 'I13.MAA000901.3_10_M.1.1', 'I13.MAA000903.3_11_M.1.1', 'I16.B002010.3_39_F.1.1', 'I16.MAA000452.3_8_M.1.1', 'I16.MAA000936.3_9_M.1.1', 'I17.B002423.3_39_F.1.1', 'I17.B002427.3_39_F.1.1', 'I17.MAA000919.3_10_M.1.1', 'I18.B000633.3_56_F.1.1', 'I19.B000412.3_56_F.1.1', 'I19.B000633.3_56_F.1.1', 'I19.B002010.3_39_F.1.1', 'I2.B000633.3_56_F.1.1', 'I20.MAA000587.3_8_M.1.1', 'I20.MAA000903.3_11_M.1.1', 'I22.MAA000398.3_9_M.1.1', 'I22.MAA000399.3_9_M.1.1', 'I22.MAA000452.3_8_M.1.1', 'I3.B002427.3_39_F.1.1', 'I4.MAA000452.3_8_M.1.1', 'I5.B000636.3_56_F.1.1', 'I6.B000633.3_56_F.1.1', 'I7.MAA000936.3_9_M.1.1', 'I8.B002427.3_39_F.1.1', 'I8.MAA000452.3_8_M.1.1', 'I9.MAA000920.3_11_M.1.1', 'J1.MAA000399.3_9_M.1.1', 'J11.B000636.3_56_F.1.1', 'J12.MAA000903.3_11_M.1.1', 'J13.B000633.3_56_F.1.1', 'J13.MAA000936.3_9_M.1.1', 'J14.B000412.3_56_F.1.1', 'J14.MAA000901.3_10_M.1.1', 'J14.MAA000920.3_11_M.1.1', 'J14.MAA000936.3_9_M.1.1', 'J15.B000633.3_56_F.1.1', 'J15.B002423.3_39_F.1.1', 'J15.MAA000586.3_8_M.1.1', 'J16.B000636.3_56_F.1.1', 'J16.MAA000400.3_8_M.1.1', 'J16.MAA000920.3_11_M.1.1', 'J16.MAA000936.3_9_M.1.1', 'J17.B002011.3_38_F.1.1', 'J17.B002427.3_39_F.1.1', 'J17.MAA000398.3_9_M.1.1', 'J17.MAA000400.3_8_M.1.1', 'J17.MAA000903.3_11_M.1.1', 'J18.B002423.3_39_F.1.1', 'J18.B002428.3_38_F.1.1', 'J18.MAA000587.3_8_M.1.1', 'J19.B000412.3_56_F.1.1', 'J19.B002429.3_38_F.1.1', 'J2.B002421.3_39_F.1.1', 'J2.B002423.3_39_F.1.1', 'J2.MAA000586.3_8_M.1.1', 'J2.MAA000919.3_10_M.1.1', 'J20.B002428.3_38_F.1.1', 'J20.MAA000917.3_11_M.1.1', 'J21.B000634.3_56_F.1.1', 'J21.B002011.3_38_F.1.1', 'J22.B002427.3_39_F.1.1', 'J3.B000634.3_56_F.1.1', 'J3.MAA000586.3_8_M.1.1', 'J4.B002427.3_39_F.1.1', 'J5.B002427.3_39_F.1.1', 'J7.B000634.3_56_F.1.1', 'J7.B002010.3_39_F.1.1', 'J8.B000633.3_56_F.1.1', 'J8.MAA000587.3_8_M.1.1', 'J8.MAA000936.3_9_M.1.1', 'J9.B002011.3_38_F.1.1', 'K1.B002427.3_39_F.1.1', 'K10.MAA000901.3_10_M.1.1', 'K11.B000636.3_56_F.1.1', 'K11.B002010.3_39_F.1.1', 'K11.MAA000399.3_9_M.1.1', 'K13.B000634.3_56_F.1.1', 'K13.B002010.3_39_F.1.1', 'K13.B002011.3_38_F.1.1', 'K13.MAA000398.3_9_M.1.1', 'K14.B002428.3_38_F.1.1', 'K14.MAA000920.3_11_M.1.1', 'K15.B000634.3_56_F.1.1', 'K15.MAA000586.3_8_M.1.1', 'K16.B000633.3_56_F.1.1', 'K16.B002429.3_38_F.1.1', 'K16.MAA000399.3_9_M.1.1', 'K16.MAA000920.3_11_M.1.1', 'K17.B002011.3_38_F.1.1', 'K17.MAA000589.3_9_M.1.1', 'K17.MAA000917.3_11_M.1.1', 'K18.B002010.3_39_F.1.1', 'K18.B002421.3_39_F.1.1', 'K18.B002427.3_39_F.1.1', 'K18.MAA000586.3_8_M.1.1', 'K19.B000633.3_56_F.1.1', 'K19.MAA000587.3_8_M.1.1', 'K2.MAA000586.3_8_M.1.1', 'K20.B000634.3_56_F.1.1', 'K20.B002010.3_39_F.1.1', 'K20.B002421.3_39_F.1.1', 'K20.B002427.3_39_F.1.1', 'K22.B000633.3_56_F.1.1', 'K22.MAA000918.3_10_M.1.1', 'K3.B000634.3_56_F.1.1', 'K4.B002010.3_39_F.1.1', 'K4.MAA000398.3_9_M.1.1', 'K4.MAA000920.3_11_M.1.1', 'K5.B002427.3_39_F.1.1', 'K6.B000633.3_56_F.1.1', 'K6.B002421.3_39_F.1.1', 'K6.B002427.3_39_F.1.1', 'K6.MAA000903.3_11_M.1.1', 'K7.B002010.3_39_F.1.1', 'K7.MAA000936.3_9_M.1.1', 'K8.B002427.3_39_F.1.1', 'K8.MAA000399.3_9_M.1.1', 'K9.B002427.3_39_F.1.1', 'L1.MAA000903.3_11_M.1.1', 'L10.B000634.3_56_F.1.1', 'L10.B002011.3_38_F.1.1', 'L10.B002428.3_38_F.1.1', 'L10.MAA000919.3_10_M.1.1', 'L10.MAA000920.3_11_M.1.1', 'L11.B002010.3_39_F.1.1', 'L11.MAA000919.3_10_M.1.1', 'L12.B002010.3_39_F.1.1', 'L12.MAA000400.3_8_M.1.1', 'L13.MAA000452.3_8_M.1.1', 'L13.MAA000918.3_10_M.1.1', 'L13.MAA000936.3_9_M.1.1', 'L14.MAA000903.3_11_M.1.1', 'L14.MAA000919.3_10_M.1.1', 'L15.MAA000452.3_8_M.1.1', 'L16.B002429.3_38_F.1.1', 'L16.MAA000587.3_8_M.1.1', 'L17.MAA000398.3_9_M.1.1', 'L17.MAA000899.3_10_M.1.1', 'L18.MAA000901.3_10_M.1.1', 'L18.MAA000903.3_11_M.1.1', 'L18.MAA000919.3_10_M.1.1', 'L2.B000633.3_56_F.1.1', 'L2.B002421.3_39_F.1.1', 'L2.MAA000399.3_9_M.1.1', 'L20.B002427.3_39_F.1.1', 'L20.MAA000399.3_9_M.1.1', 'L20.MAA000586.3_8_M.1.1', 'L20.MAA000903.3_11_M.1.1', 'L21.MAA000399.3_9_M.1.1', 'L21.MAA000919.3_10_M.1.1', 'L22.B000633.3_56_F.1.1', 'L3.B002010.3_39_F.1.1', 'L3.B002421.3_39_F.1.1', 'L3.B002428.3_38_F.1.1', 'L3.MAA000399.3_9_M.1.1', 'L3.MAA000400.3_8_M.1.1', 'L3.MAA000920.3_11_M.1.1', 'L4.MAA000587.3_8_M.1.1', 'L6.B000412.3_56_F.1.1', 'L6.B000633.3_56_F.1.1', 'L6.B002421.3_39_F.1.1', 'L6.B002427.3_39_F.1.1', 'L6.MAA000399.3_9_M.1.1', 'L6.MAA000936.3_9_M.1.1', 'L7.MAA000917.3_11_M.1.1', 'L8.B002010.3_39_F.1.1', 'L8.MAA000917.3_11_M.1.1', 'L8.MAA000918.3_10_M.1.1', 'L9.B000634.3_56_F.1.1', 'L9.B002427.3_39_F.1.1', 'L9.MAA000398.3_9_M.1.1', 'M10.B000412.3_56_F.1.1', 'M10.B002010.3_39_F.1.1', 'M10.B002423.3_39_F.1.1', 'M10.MAA000936.3_9_M.1.1', 'M11.B002011.3_38_F.1.1', 'M11.MAA000589.3_9_M.1.1', 'M12.B000634.3_56_F.1.1', 'M14.B002010.3_39_F.1.1', 'M14.B002421.3_39_F.1.1', 'M14.MAA000903.3_11_M.1.1', 'M15.B002421.3_39_F.1.1', 'M15.MAA000918.3_10_M.1.1', 'M16.MAA000399.3_9_M.1.1', 'M16.MAA000589.3_9_M.1.1', 'M16.MAA000899.3_10_M.1.1', 'M17.MAA000399.3_9_M.1.1', 'M18.B000633.3_56_F.1.1', 'M18.MAA000586.3_8_M.1.1', 'M18.MAA000903.3_11_M.1.1', 'M19.MAA000398.3_9_M.1.1', 'M19.MAA000936.3_9_M.1.1', 'M2.B002427.3_39_F.1.1', 'M2.B002428.3_38_F.1.1', 'M21.B000633.3_56_F.1.1', 'M21.MAA000586.3_8_M.1.1', 'M22.B002421.3_39_F.1.1', 'M22.MAA000398.3_9_M.1.1', 'M3.B000633.3_56_F.1.1', 'M3.B000636.3_56_F.1.1', 'M3.B002427.3_39_F.1.1', 'M3.MAA000452.3_8_M.1.1', 'M3.MAA000587.3_8_M.1.1', 'M4.B000633.3_56_F.1.1', 'M4.B002428.3_38_F.1.1', 'M6.B002428.3_38_F.1.1', 'M7.MAA000399.3_9_M.1.1', 'M7.MAA000903.3_11_M.1.1', 'M8.MAA000587.3_8_M.1.1', 'M9.B000633.3_56_F.1.1', 'M9.B002423.3_39_F.1.1', 'M9.MAA000903.3_11_M.1.1', 'M9.MAA000919.3_10_M.1.1', 'N1.B000633.3_56_F.1.1', 'N1.B002427.3_39_F.1.1', 'N1.MAA000399.3_9_M.1.1', 'N10.MAA000903.3_11_M.1.1', 'N11.B000634.3_56_F.1.1', 'N11.B002423.3_39_F.1.1', 'N11.MAA000936.3_9_M.1.1', 'N13.B002421.3_39_F.1.1', 'N13.MAA000919.3_10_M.1.1', 'N14.B002428.3_38_F.1.1', 'N16.B000633.3_56_F.1.1', 'N16.MAA000936.3_9_M.1.1', 'N17.B000633.3_56_F.1.1', 'N17.MAA000919.3_10_M.1.1', 'N18.B000412.3_56_F.1.1', 'N18.B002423.3_39_F.1.1', 'N18.MAA000917.3_11_M.1.1', 'N19.B002010.3_39_F.1.1', 'N19.B002423.3_39_F.1.1', 'N2.B000633.3_56_F.1.1', 'N2.B002421.3_39_F.1.1', 'N20.MAA000903.3_11_M.1.1', 'N21.B000634.3_56_F.1.1', 'N21.B002428.3_38_F.1.1', 'N21.B002429.3_38_F.1.1', 'N21.MAA000919.3_10_M.1.1', 'N22.MAA000399.3_9_M.1.1', 'N3.B000636.3_56_F.1.1', 'N3.B002423.3_39_F.1.1', 'N3.MAA000903.3_11_M.1.1', 'N3.MAA000919.3_10_M.1.1', 'N4.MAA000452.3_8_M.1.1', 'N6.MAA000587.3_8_M.1.1', 'N7.MAA000919.3_10_M.1.1', 'N8.MAA000452.3_8_M.1.1', 'N8.MAA000920.3_11_M.1.1', 'N9.B002423.3_39_F.1.1', 'N9.MAA000918.3_10_M.1.1', 'O1.B002427.3_39_F.1.1', 'O1.MAA000903.3_11_M.1.1', 'O11.MAA000903.3_11_M.1.1', 'O11.MAA000920.3_11_M.1.1', 'O12.MAA000589.3_9_M.1.1', 'O13.MAA000399.3_9_M.1.1', 'O13.MAA000920.3_11_M.1.1', 'O14.MAA000398.3_9_M.1.1', 'O14.MAA000399.3_9_M.1.1', 'O16.B000633.3_56_F.1.1', 'O17.MAA000898.3_11_M.1.1', 'O18.B002421.3_39_F.1.1', 'O18.MAA000398.3_9_M.1.1', 'O19.B000636.3_56_F.1.1', 'O2.B002423.3_39_F.1.1', 'O2.B002429.3_38_F.1.1', 'O2.MAA000919.3_10_M.1.1', 'O20.B002428.3_38_F.1.1', 'O20.MAA000920.3_11_M.1.1', 'O21.B002010.3_39_F.1.1', 'O21.B002421.3_39_F.1.1', 'O21.MAA000400.3_8_M.1.1', 'O21.MAA000586.3_8_M.1.1', 'O21.MAA000899.3_10_M.1.1', 'O22.MAA000399.3_9_M.1.1', 'O3.MAA000918.3_10_M.1.1', 'O3.MAA000919.3_10_M.1.1', 'O4.MAA000917.3_11_M.1.1', 'O5.MAA000903.3_11_M.1.1', 'O6.B002427.3_39_F.1.1', 'O6.MAA000919.3_10_M.1.1', 'O6.MAA000920.3_11_M.1.1', 'O7.B000634.3_56_F.1.1', 'O7.B002010.3_39_F.1.1', 'O8.B000634.3_56_F.1.1', 'O8.B002423.3_39_F.1.1', 'O8.MAA000919.3_10_M.1.1', 'O9.B002427.3_39_F.1.1', 'O9.MAA000587.3_8_M.1.1', 'P1.B002421.3_39_F.1.1', 'P1.MAA000903.3_11_M.1.1', 'P10.MAA000399.3_9_M.1.1', 'P11.MAA000919.3_10_M.1.1', 'P11.MAA000936.3_9_M.1.1', 'P12.MAA000903.3_11_M.1.1', 'P12.MAA000919.3_10_M.1.1', 'P13.B002423.3_39_F.1.1', 'P13.MAA000400.3_8_M.1.1', 'P13.MAA000586.3_8_M.1.1', 'P15.B000634.3_56_F.1.1', 'P15.MAA000586.3_8_M.1.1', 'P15.MAA000898.3_11_M.1.1', 'P16.B000633.3_56_F.1.1', 'P16.B000636.3_56_F.1.1', 'P16.B002428.3_38_F.1.1', 'P16.MAA000586.3_8_M.1.1', 'P16.MAA000899.3_10_M.1.1', 'P17.B002421.3_39_F.1.1', 'P17.MAA000918.3_10_M.1.1', 'P18.B000634.3_56_F.1.1', 'P18.B002429.3_38_F.1.1', 'P18.MAA000586.3_8_M.1.1', 'P18.MAA000899.3_10_M.1.1', 'P19.B000633.3_56_F.1.1', 'P19.MAA000398.3_9_M.1.1', 'P2.B002421.3_39_F.1.1', 'P2.MAA000899.3_10_M.1.1', 'P20.B002423.3_39_F.1.1', 'P20.MAA000398.3_9_M.1.1', 'P20.MAA000901.3_10_M.1.1', 'P21.B002011.3_38_F.1.1', 'P21.MAA000400.3_8_M.1.1', 'P22.MAA000399.3_9_M.1.1', 'P22.MAA000936.3_9_M.1.1', 'P3.MAA000936.3_9_M.1.1', 'P4.MAA000400.3_8_M.1.1', 'P5.B002427.3_39_F.1.1', 'P5.MAA000586.3_8_M.1.1', 'P5.MAA000936.3_9_M.1.1', 'P6.B002010.3_39_F.1.1', 'P6.MAA000400.3_8_M.1.1', 'P6.MAA000903.3_11_M.1.1', 'P7.B000412.3_56_F.1.1', 'P8.B002428.3_38_F.1.1', 'P8.MAA000586.3_8_M.1.1', 'P9.B002427.3_39_F.1.1', 'P9.MAA000399.3_9_M.1.1'] not in index\"",
     "output_type": "error",
     "traceback": [
      "\u001b[0;31m---------------------------------------------------------------------------\u001b[0m",
      "\u001b[0;31mKeyError\u001b[0m                                  Traceback (most recent call last)",
      "\u001b[0;32m/var/folders/0x/rjfqjlc51lb7ncwzzljb009m0000gn/T/ipykernel_86634/1024348997.py\u001b[0m in \u001b[0;36m<module>\u001b[0;34m\u001b[0m\n\u001b[0;32m----> 1\u001b[0;31m [cgenesA, xpairs, tspRF] = pySCN.scn_train(expTrain, nTopGenes = 100, nRand = 0,\n\u001b[0m\u001b[1;32m      2\u001b[0m                                            \u001b[0mnTrees\u001b[0m \u001b[0;34m=\u001b[0m \u001b[0;36m1000\u001b[0m \u001b[0;34m,\u001b[0m\u001b[0mnTopGenePairs\u001b[0m \u001b[0;34m=\u001b[0m \u001b[0;36m100\u001b[0m\u001b[0;34m,\u001b[0m \u001b[0mdLevel\u001b[0m \u001b[0;34m=\u001b[0m \u001b[0;34m'cell_ontology_class'\u001b[0m\u001b[0;34m,\u001b[0m\u001b[0;34m\u001b[0m\u001b[0;34m\u001b[0m\u001b[0m\n\u001b[1;32m      3\u001b[0m                                            stratify=True, limitToHVG=True)\n",
      "\u001b[0;32m~/opt/anaconda3/lib/python3.9/site-packages/pySingleCellNet/scn_train.py\u001b[0m in \u001b[0;36mscn_train\u001b[0;34m(aTrain, dLevel, nTopGenes, nTopGenePairs, nRand, nTrees, stratify, counts_per_cell_after, scaleMax, limitToHVG)\u001b[0m\n\u001b[1;32m     54\u001b[0m     \u001b[0msc\u001b[0m\u001b[0;34m.\u001b[0m\u001b[0mpp\u001b[0m\u001b[0;34m.\u001b[0m\u001b[0mscale\u001b[0m\u001b[0;34m(\u001b[0m\u001b[0madNorm\u001b[0m\u001b[0;34m,\u001b[0m \u001b[0mmax_value\u001b[0m\u001b[0;34m=\u001b[0m\u001b[0mscaleMax\u001b[0m\u001b[0;34m)\u001b[0m\u001b[0;34m\u001b[0m\u001b[0;34m\u001b[0m\u001b[0m\n\u001b[1;32m     55\u001b[0m     \u001b[0mexpTnorm\u001b[0m\u001b[0;34m=\u001b[0m \u001b[0mpd\u001b[0m\u001b[0;34m.\u001b[0m\u001b[0mDataFrame\u001b[0m\u001b[0;34m(\u001b[0m\u001b[0mdata\u001b[0m\u001b[0;34m=\u001b[0m\u001b[0madNorm\u001b[0m\u001b[0;34m.\u001b[0m\u001b[0mX\u001b[0m\u001b[0;34m,\u001b[0m  \u001b[0mindex\u001b[0m\u001b[0;34m=\u001b[0m \u001b[0madNorm\u001b[0m\u001b[0;34m.\u001b[0m\u001b[0mobs\u001b[0m\u001b[0;34m.\u001b[0m\u001b[0mindex\u001b[0m\u001b[0;34m.\u001b[0m\u001b[0mvalues\u001b[0m\u001b[0;34m,\u001b[0m \u001b[0mcolumns\u001b[0m\u001b[0;34m=\u001b[0m \u001b[0madNorm\u001b[0m\u001b[0;34m.\u001b[0m\u001b[0mvar\u001b[0m\u001b[0;34m.\u001b[0m\u001b[0mindex\u001b[0m\u001b[0;34m.\u001b[0m\u001b[0mvalues\u001b[0m\u001b[0;34m)\u001b[0m\u001b[0;34m\u001b[0m\u001b[0;34m\u001b[0m\u001b[0m\n\u001b[0;32m---> 56\u001b[0;31m     \u001b[0mexpTnorm\u001b[0m\u001b[0;34m=\u001b[0m\u001b[0mexpTnorm\u001b[0m\u001b[0;34m.\u001b[0m\u001b[0mloc\u001b[0m\u001b[0;34m[\u001b[0m\u001b[0mstTrain\u001b[0m\u001b[0;34m.\u001b[0m\u001b[0mindex\u001b[0m\u001b[0;34m.\u001b[0m\u001b[0mvalues\u001b[0m\u001b[0;34m]\u001b[0m\u001b[0;34m\u001b[0m\u001b[0;34m\u001b[0m\u001b[0m\n\u001b[0m\u001b[1;32m     57\u001b[0m \u001b[0;34m\u001b[0m\u001b[0m\n\u001b[1;32m     58\u001b[0m     \u001b[0;31m### expTnorm= pd.DataFrame(data=aTrain.X,  index= aTrain.obs.index.values, columns= aTrain.var.index.values)\u001b[0m\u001b[0;34m\u001b[0m\u001b[0;34m\u001b[0m\u001b[0m\n",
      "\u001b[0;32m~/opt/anaconda3/lib/python3.9/site-packages/pandas/core/indexing.py\u001b[0m in \u001b[0;36m__getitem__\u001b[0;34m(self, key)\u001b[0m\n\u001b[1;32m    965\u001b[0m \u001b[0;34m\u001b[0m\u001b[0m\n\u001b[1;32m    966\u001b[0m             \u001b[0mmaybe_callable\u001b[0m \u001b[0;34m=\u001b[0m \u001b[0mcom\u001b[0m\u001b[0;34m.\u001b[0m\u001b[0mapply_if_callable\u001b[0m\u001b[0;34m(\u001b[0m\u001b[0mkey\u001b[0m\u001b[0;34m,\u001b[0m \u001b[0mself\u001b[0m\u001b[0;34m.\u001b[0m\u001b[0mobj\u001b[0m\u001b[0;34m)\u001b[0m\u001b[0;34m\u001b[0m\u001b[0;34m\u001b[0m\u001b[0m\n\u001b[0;32m--> 967\u001b[0;31m             \u001b[0;32mreturn\u001b[0m \u001b[0mself\u001b[0m\u001b[0;34m.\u001b[0m\u001b[0m_getitem_axis\u001b[0m\u001b[0;34m(\u001b[0m\u001b[0mmaybe_callable\u001b[0m\u001b[0;34m,\u001b[0m \u001b[0maxis\u001b[0m\u001b[0;34m=\u001b[0m\u001b[0maxis\u001b[0m\u001b[0;34m)\u001b[0m\u001b[0;34m\u001b[0m\u001b[0;34m\u001b[0m\u001b[0m\n\u001b[0m\u001b[1;32m    968\u001b[0m \u001b[0;34m\u001b[0m\u001b[0m\n\u001b[1;32m    969\u001b[0m     \u001b[0;32mdef\u001b[0m \u001b[0m_is_scalar_access\u001b[0m\u001b[0;34m(\u001b[0m\u001b[0mself\u001b[0m\u001b[0;34m,\u001b[0m \u001b[0mkey\u001b[0m\u001b[0;34m:\u001b[0m \u001b[0mtuple\u001b[0m\u001b[0;34m)\u001b[0m\u001b[0;34m:\u001b[0m\u001b[0;34m\u001b[0m\u001b[0;34m\u001b[0m\u001b[0m\n",
      "\u001b[0;32m~/opt/anaconda3/lib/python3.9/site-packages/pandas/core/indexing.py\u001b[0m in \u001b[0;36m_getitem_axis\u001b[0;34m(self, key, axis)\u001b[0m\n\u001b[1;32m   1189\u001b[0m                     \u001b[0;32mraise\u001b[0m \u001b[0mValueError\u001b[0m\u001b[0;34m(\u001b[0m\u001b[0;34m\"Cannot index with multidimensional key\"\u001b[0m\u001b[0;34m)\u001b[0m\u001b[0;34m\u001b[0m\u001b[0;34m\u001b[0m\u001b[0m\n\u001b[1;32m   1190\u001b[0m \u001b[0;34m\u001b[0m\u001b[0m\n\u001b[0;32m-> 1191\u001b[0;31m                 \u001b[0;32mreturn\u001b[0m \u001b[0mself\u001b[0m\u001b[0;34m.\u001b[0m\u001b[0m_getitem_iterable\u001b[0m\u001b[0;34m(\u001b[0m\u001b[0mkey\u001b[0m\u001b[0;34m,\u001b[0m \u001b[0maxis\u001b[0m\u001b[0;34m=\u001b[0m\u001b[0maxis\u001b[0m\u001b[0;34m)\u001b[0m\u001b[0;34m\u001b[0m\u001b[0;34m\u001b[0m\u001b[0m\n\u001b[0m\u001b[1;32m   1192\u001b[0m \u001b[0;34m\u001b[0m\u001b[0m\n\u001b[1;32m   1193\u001b[0m             \u001b[0;31m# nested tuple slicing\u001b[0m\u001b[0;34m\u001b[0m\u001b[0;34m\u001b[0m\u001b[0m\n",
      "\u001b[0;32m~/opt/anaconda3/lib/python3.9/site-packages/pandas/core/indexing.py\u001b[0m in \u001b[0;36m_getitem_iterable\u001b[0;34m(self, key, axis)\u001b[0m\n\u001b[1;32m   1130\u001b[0m \u001b[0;34m\u001b[0m\u001b[0m\n\u001b[1;32m   1131\u001b[0m         \u001b[0;31m# A collection of keys\u001b[0m\u001b[0;34m\u001b[0m\u001b[0;34m\u001b[0m\u001b[0m\n\u001b[0;32m-> 1132\u001b[0;31m         \u001b[0mkeyarr\u001b[0m\u001b[0;34m,\u001b[0m \u001b[0mindexer\u001b[0m \u001b[0;34m=\u001b[0m \u001b[0mself\u001b[0m\u001b[0;34m.\u001b[0m\u001b[0m_get_listlike_indexer\u001b[0m\u001b[0;34m(\u001b[0m\u001b[0mkey\u001b[0m\u001b[0;34m,\u001b[0m \u001b[0maxis\u001b[0m\u001b[0;34m)\u001b[0m\u001b[0;34m\u001b[0m\u001b[0;34m\u001b[0m\u001b[0m\n\u001b[0m\u001b[1;32m   1133\u001b[0m         return self.obj._reindex_with_indexers(\n\u001b[1;32m   1134\u001b[0m             \u001b[0;34m{\u001b[0m\u001b[0maxis\u001b[0m\u001b[0;34m:\u001b[0m \u001b[0;34m[\u001b[0m\u001b[0mkeyarr\u001b[0m\u001b[0;34m,\u001b[0m \u001b[0mindexer\u001b[0m\u001b[0;34m]\u001b[0m\u001b[0;34m}\u001b[0m\u001b[0;34m,\u001b[0m \u001b[0mcopy\u001b[0m\u001b[0;34m=\u001b[0m\u001b[0;32mTrue\u001b[0m\u001b[0;34m,\u001b[0m \u001b[0mallow_dups\u001b[0m\u001b[0;34m=\u001b[0m\u001b[0;32mTrue\u001b[0m\u001b[0;34m\u001b[0m\u001b[0;34m\u001b[0m\u001b[0m\n",
      "\u001b[0;32m~/opt/anaconda3/lib/python3.9/site-packages/pandas/core/indexing.py\u001b[0m in \u001b[0;36m_get_listlike_indexer\u001b[0;34m(self, key, axis)\u001b[0m\n\u001b[1;32m   1325\u001b[0m         \u001b[0maxis_name\u001b[0m \u001b[0;34m=\u001b[0m \u001b[0mself\u001b[0m\u001b[0;34m.\u001b[0m\u001b[0mobj\u001b[0m\u001b[0;34m.\u001b[0m\u001b[0m_get_axis_name\u001b[0m\u001b[0;34m(\u001b[0m\u001b[0maxis\u001b[0m\u001b[0;34m)\u001b[0m\u001b[0;34m\u001b[0m\u001b[0;34m\u001b[0m\u001b[0m\n\u001b[1;32m   1326\u001b[0m \u001b[0;34m\u001b[0m\u001b[0m\n\u001b[0;32m-> 1327\u001b[0;31m         \u001b[0mkeyarr\u001b[0m\u001b[0;34m,\u001b[0m \u001b[0mindexer\u001b[0m \u001b[0;34m=\u001b[0m \u001b[0max\u001b[0m\u001b[0;34m.\u001b[0m\u001b[0m_get_indexer_strict\u001b[0m\u001b[0;34m(\u001b[0m\u001b[0mkey\u001b[0m\u001b[0;34m,\u001b[0m \u001b[0maxis_name\u001b[0m\u001b[0;34m)\u001b[0m\u001b[0;34m\u001b[0m\u001b[0;34m\u001b[0m\u001b[0m\n\u001b[0m\u001b[1;32m   1328\u001b[0m \u001b[0;34m\u001b[0m\u001b[0m\n\u001b[1;32m   1329\u001b[0m         \u001b[0;32mreturn\u001b[0m \u001b[0mkeyarr\u001b[0m\u001b[0;34m,\u001b[0m \u001b[0mindexer\u001b[0m\u001b[0;34m\u001b[0m\u001b[0;34m\u001b[0m\u001b[0m\n",
      "\u001b[0;32m~/opt/anaconda3/lib/python3.9/site-packages/pandas/core/indexes/base.py\u001b[0m in \u001b[0;36m_get_indexer_strict\u001b[0;34m(self, key, axis_name)\u001b[0m\n\u001b[1;32m   5780\u001b[0m             \u001b[0mkeyarr\u001b[0m\u001b[0;34m,\u001b[0m \u001b[0mindexer\u001b[0m\u001b[0;34m,\u001b[0m \u001b[0mnew_indexer\u001b[0m \u001b[0;34m=\u001b[0m \u001b[0mself\u001b[0m\u001b[0;34m.\u001b[0m\u001b[0m_reindex_non_unique\u001b[0m\u001b[0;34m(\u001b[0m\u001b[0mkeyarr\u001b[0m\u001b[0;34m)\u001b[0m\u001b[0;34m\u001b[0m\u001b[0;34m\u001b[0m\u001b[0m\n\u001b[1;32m   5781\u001b[0m \u001b[0;34m\u001b[0m\u001b[0m\n\u001b[0;32m-> 5782\u001b[0;31m         \u001b[0mself\u001b[0m\u001b[0;34m.\u001b[0m\u001b[0m_raise_if_missing\u001b[0m\u001b[0;34m(\u001b[0m\u001b[0mkeyarr\u001b[0m\u001b[0;34m,\u001b[0m \u001b[0mindexer\u001b[0m\u001b[0;34m,\u001b[0m \u001b[0maxis_name\u001b[0m\u001b[0;34m)\u001b[0m\u001b[0;34m\u001b[0m\u001b[0;34m\u001b[0m\u001b[0m\n\u001b[0m\u001b[1;32m   5783\u001b[0m \u001b[0;34m\u001b[0m\u001b[0m\n\u001b[1;32m   5784\u001b[0m         \u001b[0mkeyarr\u001b[0m \u001b[0;34m=\u001b[0m \u001b[0mself\u001b[0m\u001b[0;34m.\u001b[0m\u001b[0mtake\u001b[0m\u001b[0;34m(\u001b[0m\u001b[0mindexer\u001b[0m\u001b[0;34m)\u001b[0m\u001b[0;34m\u001b[0m\u001b[0;34m\u001b[0m\u001b[0m\n",
      "\u001b[0;32m~/opt/anaconda3/lib/python3.9/site-packages/pandas/core/indexes/base.py\u001b[0m in \u001b[0;36m_raise_if_missing\u001b[0;34m(self, key, indexer, axis_name)\u001b[0m\n\u001b[1;32m   5843\u001b[0m \u001b[0;34m\u001b[0m\u001b[0m\n\u001b[1;32m   5844\u001b[0m             \u001b[0mnot_found\u001b[0m \u001b[0;34m=\u001b[0m \u001b[0mlist\u001b[0m\u001b[0;34m(\u001b[0m\u001b[0mensure_index\u001b[0m\u001b[0;34m(\u001b[0m\u001b[0mkey\u001b[0m\u001b[0;34m)\u001b[0m\u001b[0;34m[\u001b[0m\u001b[0mmissing_mask\u001b[0m\u001b[0;34m.\u001b[0m\u001b[0mnonzero\u001b[0m\u001b[0;34m(\u001b[0m\u001b[0;34m)\u001b[0m\u001b[0;34m[\u001b[0m\u001b[0;36m0\u001b[0m\u001b[0;34m]\u001b[0m\u001b[0;34m]\u001b[0m\u001b[0;34m.\u001b[0m\u001b[0munique\u001b[0m\u001b[0;34m(\u001b[0m\u001b[0;34m)\u001b[0m\u001b[0;34m)\u001b[0m\u001b[0;34m\u001b[0m\u001b[0;34m\u001b[0m\u001b[0m\n\u001b[0;32m-> 5845\u001b[0;31m             \u001b[0;32mraise\u001b[0m \u001b[0mKeyError\u001b[0m\u001b[0;34m(\u001b[0m\u001b[0;34mf\"{not_found} not in index\"\u001b[0m\u001b[0;34m)\u001b[0m\u001b[0;34m\u001b[0m\u001b[0;34m\u001b[0m\u001b[0m\n\u001b[0m\u001b[1;32m   5846\u001b[0m \u001b[0;34m\u001b[0m\u001b[0m\n\u001b[1;32m   5847\u001b[0m     \u001b[0;34m@\u001b[0m\u001b[0moverload\u001b[0m\u001b[0;34m\u001b[0m\u001b[0;34m\u001b[0m\u001b[0m\n",
      "\u001b[0;31mKeyError\u001b[0m: \"['A1.B000633.3_56_F.1.1', 'A1.B000634.3_56_F.1.1', 'A1.B002427.3_39_F.1.1', 'A1.B002428.3_38_F.1.1', 'A10.MAA000398.3_9_M.1.1', 'A10.MAA000586.3_8_M.1.1', 'A10.MAA000936.3_9_M.1.1', 'A11.B000636.3_56_F.1.1', 'A11.B002010.3_39_F.1.1', 'A11.MAA000398.3_9_M.1.1', 'A12.B000636.3_56_F.1.1', 'A12.MAA100037.3_11_M.1.1', 'A13.MAA000398.3_9_M.1.1', 'A13.MAA000903.3_11_M.1.1', 'A14.B000633.3_56_F.1.1', 'A14.B002010.3_39_F.1.1', 'A16.B000633.3_56_F.1.1', 'A16.B002423.3_39_F.1.1', 'A16.B002428.3_38_F.1.1', 'A16.MAA000936.3_9_M.1.1', 'A17.B000636.3_56_F.1.1', 'A18.B002011.3_38_F.1.1', 'A19.B000633.3_56_F.1.1', 'A19.B002428.3_38_F.1.1', 'A19.B002429.3_38_F.1.1', 'A19.MAA000903.3_11_M.1.1', 'A2.MAA000587.3_8_M.1.1', 'A2.MAA000920.3_11_M.1.1', 'A2.MAA100037.3_10_M.1.1', 'A20.B000412.3_56_F.1.1', 'A20.MAA000586.3_8_M.1.1', 'A21.B002429.3_38_F.1.1', 'A22.MAA000398.3_9_M.1.1', 'A4.MAA000918.3_10_M.1.1', 'A6.MAA000918.3_10_M.1.1', 'A7.B000633.3_56_F.1.1', 'A7.B002423.3_39_F.1.1', 'A7.MAA000400.3_8_M.1.1', 'A7.MAA000936.3_9_M.1.1', 'A7.MAA100037.3_11_M.1.1', 'A8.B002428.3_38_F.1.1', 'A8.MAA100097.3_39_F.1.1', 'A9.B000634.3_56_F.1.1', 'A9.MAA000398.3_9_M.1.1', 'A9.MAA100037.3_11_M.1.1', 'B1.B000636.3_56_F.1.1', 'B1.B002428.3_38_F.1.1', 'B1.MAA100037.3_10_M.1.1', 'B1.MAA100096.3_38_F.1.1', 'B10.B000633.3_56_F.1.1', 'B11.B002421.3_39_F.1.1', 'B11.MAA000903.3_11_M.1.1', 'B11.MAA000920.3_11_M.1.1', 'B12.B002429.3_38_F.1.1', 'B12.MAA000399.3_9_M.1.1', 'B13.B000412.3_56_F.1.1', 'B13.B002010.3_39_F.1.1', 'B13.B002423.3_39_F.1.1', 'B14.B002011.3_38_F.1.1', 'B14.B002421.3_39_F.1.1', 'B14.MAA000586.3_8_M.1.1', 'B14.MAA000901.3_10_M.1.1', 'B14.MAA000920.3_11_M.1.1', 'B15.B000634.3_56_F.1.1', 'B15.B002429.3_38_F.1.1', 'B16.B002011.3_38_F.1.1', 'B16.B002421.3_39_F.1.1', 'B16.MAA000903.3_11_M.1.1', 'B17.B002421.3_39_F.1.1', 'B18.B000412.3_56_F.1.1', 'B18.B000633.3_56_F.1.1', 'B18.MAA000398.3_9_M.1.1', 'B18.MAA000920.3_11_M.1.1', 'B19.B002421.3_39_F.1.1', 'B19.MAA000586.3_8_M.1.1', 'B19.MAA000936.3_9_M.1.1', 'B2.B002010.3_39_F.1.1', 'B2.MAA000919.3_10_M.1.1', 'B2.MAA100096.3_38_F.1.1', 'B20.B000634.3_56_F.1.1', 'B20.B000636.3_56_F.1.1', 'B20.B002010.3_39_F.1.1', 'B20.B002011.3_38_F.1.1', 'B20.B002428.3_38_F.1.1', 'B20.MAA000903.3_11_M.1.1', 'B21.B000633.3_56_F.1.1', 'B21.B002010.3_39_F.1.1', 'B21.B002011.3_38_F.1.1', 'B21.MAA000589.3_9_M.1.1', 'B22.B000412.3_56_F.1.1', 'B22.B000633.3_56_F.1.1', 'B22.B002421.3_39_F.1.1', 'B22.MAA000918.3_10_M.1.1', 'B3.MAA000586.3_8_M.1.1', 'B4.B002010.3_39_F.1.1', 'B4.B002427.3_39_F.1.1', 'B4.MAA000589.3_9_M.1.1', 'B5.B002427.3_39_F.1.1', 'B5.MAA100037.3_10_M.1.1', 'B6.B002429.3_38_F.1.1', 'B6.MAA000400.3_8_M.1.1', 'B6.MAA000936.3_9_M.1.1', 'B6.MAA100096.3_39_F.1.1', 'B7.MAA100037.3_11_M.1.1', 'B8.MAA000589.3_9_M.1.1', 'B8.MAA100037.3_11_M.1.1', 'B9.B002010.3_39_F.1.1', 'B9.B002427.3_39_F.1.1', 'B9.B002428.3_38_F.1.1', 'B9.MAA000936.3_9_M.1.1', 'C1.B002010.3_39_F.1.1', 'C1.MAA000452.3_8_M.1.1', 'C10.MAA000398.3_9_M.1.1', 'C11.B002429.3_38_F.1.1', 'C11.MAA000901.3_10_M.1.1', 'C12.B002427.3_39_F.1.1', 'C14.MAA000936.3_9_M.1.1', 'C15.B002423.3_39_F.1.1', 'C15.B002429.3_38_F.1.1', 'C15.MAA000936.3_9_M.1.1', 'C16.MAA000901.3_10_M.1.1', 'C16.MAA000903.3_11_M.1.1', 'C17.B002428.3_38_F.1.1', 'C17.MAA000398.3_9_M.1.1', 'C18.B002429.3_38_F.1.1', 'C18.MAA000903.3_11_M.1.1', 'C19.B002423.3_39_F.1.1', 'C19.B002427.3_39_F.1.1', 'C2.MAA000901.3_10_M.1.1', 'C20.B002011.3_38_F.1.1', 'C20.MAA000586.3_8_M.1.1', 'C21.MAA000918.3_10_M.1.1', 'C22.B000633.3_56_F.1.1', 'C22.B002429.3_38_F.1.1', 'C3.MAA100096.3_38_F.1.1', 'C4.B002423.3_39_F.1.1', 'C4.MAA000898.3_11_M.1.1', 'C4.MAA100097.3_38_F.1.1', 'C5.B002423.3_39_F.1.1', 'C5.MAA000452.3_8_M.1.1', 'C5.MAA000587.3_8_M.1.1', 'C5.MAA100096.3_39_F.1.1', 'C5.MAA100097.3_39_F.1.1', 'C6.B002011.3_38_F.1.1', 'C6.MAA000918.3_10_M.1.1', 'C7.B002010.3_39_F.1.1', 'C9.B002421.3_39_F.1.1', 'D10.MAA000936.3_9_M.1.1', 'D11.MAA000452.3_8_M.1.1', 'D11.MAA000903.3_11_M.1.1', 'D12.B002421.3_39_F.1.1', 'D12.MAA000586.3_8_M.1.1', 'D13.B002423.3_39_F.1.1', 'D13.B002428.3_38_F.1.1', 'D13.MAA000918.3_10_M.1.1', 'D14.MAA000936.3_9_M.1.1', 'D15.B000412.3_56_F.1.1', 'D15.B002010.3_39_F.1.1', 'D15.B002429.3_38_F.1.1', 'D16.B002010.3_39_F.1.1', 'D17.B002427.3_39_F.1.1', 'D18.B000633.3_56_F.1.1', 'D18.B002428.3_38_F.1.1', 'D18.MAA000901.3_10_M.1.1', 'D19.MAA000901.3_10_M.1.1', 'D2.MAA000452.3_8_M.1.1', 'D2.MAA000920.3_11_M.1.1', 'D2.MAA100096.3_38_F.1.1', 'D20.B002423.3_39_F.1.1', 'D22.B002010.3_39_F.1.1', 'D22.B002428.3_38_F.1.1', 'D22.MAA000586.3_8_M.1.1', 'D22.MAA000901.3_10_M.1.1', 'D3.MAA000898.3_11_M.1.1', 'D3.MAA000903.3_11_M.1.1', 'D5.B000633.3_56_F.1.1', 'D5.B002010.3_39_F.1.1', 'D6.B000636.3_56_F.1.1', 'D6.MAA000400.3_8_M.1.1', 'D6.MAA000586.3_8_M.1.1', 'D6.MAA000901.3_10_M.1.1', 'D6.MAA100037.3_10_M.1.1', 'D7.MAA100037.3_11_M.1.1', 'D8.MAA000452.3_8_M.1.1', 'D8.MAA000920.3_11_M.1.1', 'D8.MAA000936.3_9_M.1.1', 'D8.MAA100097.3_39_F.1.1', 'D9.MAA000452.3_8_M.1.1', 'D9.MAA000587.3_8_M.1.1', 'D9.MAA000920.3_11_M.1.1', 'E1.B002428.3_38_F.1.1', 'E1.MAA000920.3_11_M.1.1', 'E11.B000634.3_56_F.1.1', 'E11.B000636.3_56_F.1.1', 'E11.B002423.3_39_F.1.1', 'E11.MAA100037.3_11_M.1.1', 'E13.B000412.3_56_F.1.1', 'E13.MAA000398.3_9_M.1.1', 'E13.MAA000452.3_8_M.1.1', 'E13.MAA000903.3_11_M.1.1', 'E13.MAA000919.3_10_M.1.1', 'E14.B000634.3_56_F.1.1', 'E14.B002428.3_38_F.1.1', 'E14.MAA000898.3_11_M.1.1', 'E15.B000412.3_56_F.1.1', 'E15.B000633.3_56_F.1.1', 'E16.B000633.3_56_F.1.1', 'E16.B002010.3_39_F.1.1', 'E16.MAA000399.3_9_M.1.1', 'E17.MAA000587.3_8_M.1.1', 'E18.MAA000918.3_10_M.1.1', 'E19.B000634.3_56_F.1.1', 'E20.B000633.3_56_F.1.1', 'E20.MAA000587.3_8_M.1.1', 'E21.B000412.3_56_F.1.1', 'E21.B002421.3_39_F.1.1', 'E21.B002427.3_39_F.1.1', 'E22.B000633.3_56_F.1.1', 'E22.B002423.3_39_F.1.1', 'E22.MAA000917.3_11_M.1.1', 'E22.MAA000919.3_10_M.1.1', 'E3.B000633.3_56_F.1.1', 'E3.MAA000400.3_8_M.1.1', 'E4.B000636.3_56_F.1.1', 'E4.MAA000400.3_8_M.1.1', 'E4.MAA000452.3_8_M.1.1', 'E4.MAA000589.3_9_M.1.1', 'E5.B002427.3_39_F.1.1', 'E5.B002428.3_38_F.1.1', 'E5.MAA000400.3_8_M.1.1', 'E5.MAA000918.3_10_M.1.1', 'E5.MAA100037.3_10_M.1.1', 'E7.B002428.3_38_F.1.1', 'E7.MAA000398.3_9_M.1.1', 'E8.B000633.3_56_F.1.1', 'E8.B002421.3_39_F.1.1', 'E8.B002429.3_38_F.1.1', 'E9.B000636.3_56_F.1.1', 'E9.B002010.3_39_F.1.1', 'E9.MAA000903.3_11_M.1.1', 'F1.MAA100096.3_38_F.1.1', 'F10.B000633.3_56_F.1.1', 'F10.MAA000398.3_9_M.1.1', 'F10.MAA000903.3_11_M.1.1', 'F11.B002010.3_39_F.1.1', 'F11.MAA100037.3_11_M.1.1', 'F12.MAA000936.3_9_M.1.1', 'F13.B000633.3_56_F.1.1', 'F13.MAA000936.3_9_M.1.1', 'F14.MAA000587.3_8_M.1.1', 'F15.B002423.3_39_F.1.1', 'F15.MAA000398.3_9_M.1.1', 'F15.MAA000586.3_8_M.1.1', 'F15.MAA000919.3_10_M.1.1', 'F16.B002010.3_39_F.1.1', 'F16.MAA000452.3_8_M.1.1', 'F17.B000633.3_56_F.1.1', 'F17.B002010.3_39_F.1.1', 'F17.B002427.3_39_F.1.1', 'F17.MAA000398.3_9_M.1.1', 'F19.B002423.3_39_F.1.1', 'F19.MAA000400.3_8_M.1.1', 'F2.MAA000400.3_8_M.1.1', 'F2.MAA000586.3_8_M.1.1', 'F2.MAA100096.3_38_F.1.1', 'F20.B000633.3_56_F.1.1', 'F21.B002010.3_39_F.1.1', 'F21.MAA000901.3_10_M.1.1', 'F21.MAA000903.3_11_M.1.1', 'F22.B002429.3_38_F.1.1', 'F22.MAA000400.3_8_M.1.1', 'F22.MAA000899.3_10_M.1.1', 'F22.MAA000901.3_10_M.1.1', 'F3.MAA000400.3_8_M.1.1', 'F3.MAA000587.3_8_M.1.1', 'F3.MAA000936.3_9_M.1.1', 'F3.MAA100037.3_10_M.1.1', 'F3.MAA100097.3_38_F.1.1', 'F5.B002421.3_39_F.1.1', 'F6.B002011.3_38_F.1.1', 'F6.B002427.3_39_F.1.1', 'F6.MAA000398.3_9_M.1.1', 'F6.MAA100037.3_10_M.1.1', 'F6.MAA100096.3_39_F.1.1', 'F8.B002423.3_39_F.1.1', 'F8.MAA000586.3_8_M.1.1', 'F9.MAA000452.3_8_M.1.1', 'F9.MAA000901.3_10_M.1.1', 'G1.B000634.3_56_F.1.1', 'G1.MAA000399.3_9_M.1.1', 'G11.MAA000398.3_9_M.1.1', 'G12.B002421.3_39_F.1.1', 'G12.B002423.3_39_F.1.1', 'G13.B000412.3_56_F.1.1', 'G13.MAA000589.3_9_M.1.1', 'G14.B000412.3_56_F.1.1', 'G14.B002011.3_38_F.1.1', 'G14.MAA000589.3_9_M.1.1', 'G17.MAA000398.3_9_M.1.1', 'G17.MAA000587.3_8_M.1.1', 'G17.MAA000903.3_11_M.1.1', 'G18.B000633.3_56_F.1.1', 'G18.B002427.3_39_F.1.1', 'G19.MAA000586.3_8_M.1.1', 'G2.B002011.3_38_F.1.1', 'G2.MAA000917.3_11_M.1.1', 'G20.B002423.3_39_F.1.1', 'G20.MAA000398.3_9_M.1.1', 'G21.B002429.3_38_F.1.1', 'G21.MAA000452.3_8_M.1.1', 'G21.MAA000936.3_9_M.1.1', 'G22.B002427.3_39_F.1.1', 'G22.MAA000901.3_10_M.1.1', 'G22.MAA000920.3_11_M.1.1', 'G22.MAA000936.3_9_M.1.1', 'G3.B000633.3_56_F.1.1', 'G3.B002423.3_39_F.1.1', 'G3.MAA000898.3_11_M.1.1', 'G5.B002010.3_39_F.1.1', 'G5.MAA000936.3_9_M.1.1', 'G6.B000633.3_56_F.1.1', 'G6.B000634.3_56_F.1.1', 'G7.B000412.3_56_F.1.1', 'G7.B002421.3_39_F.1.1', 'G7.MAA000587.3_8_M.1.1', 'G7.MAA100097.3_39_F.1.1', 'G8.B002428.3_38_F.1.1', 'H10.B000633.3_56_F.1.1', 'H10.MAA000452.3_8_M.1.1', 'H10.MAA000586.3_8_M.1.1', 'H10.MAA000903.3_11_M.1.1', 'H11.B002428.3_38_F.1.1', 'H12.B000633.3_56_F.1.1', 'H12.B002010.3_39_F.1.1', 'H12.MAA000452.3_8_M.1.1', 'H13.B002010.3_39_F.1.1', 'H14.B000634.3_56_F.1.1', 'H14.B002423.3_39_F.1.1', 'H14.MAA000903.3_11_M.1.1', 'H15.B002011.3_38_F.1.1', 'H15.MAA000398.3_9_M.1.1', 'H15.MAA000399.3_9_M.1.1', 'H16.B002010.3_39_F.1.1', 'H16.B002428.3_38_F.1.1', 'H16.MAA000586.3_8_M.1.1', 'H16.MAA000589.3_9_M.1.1', 'H16.MAA000903.3_11_M.1.1', 'H17.B000636.3_56_F.1.1', 'H17.B002010.3_39_F.1.1', 'H17.B002429.3_38_F.1.1', 'H17.MAA000452.3_8_M.1.1', 'H18.B002428.3_38_F.1.1', 'H2.MAA000903.3_11_M.1.1', 'H20.MAA000589.3_9_M.1.1', 'H3.B000633.3_56_F.1.1', 'H3.MAA100096.3_38_F.1.1', 'H5.B002421.3_39_F.1.1', 'H6.B000412.3_56_F.1.1', 'H7.B002427.3_39_F.1.1', 'H8.B002010.3_39_F.1.1', 'H8.B002428.3_38_F.1.1', 'I10.B000634.3_56_F.1.1', 'I10.B002011.3_38_F.1.1', 'I11.B000633.3_56_F.1.1', 'I11.B002428.3_38_F.1.1', 'I12.B000634.3_56_F.1.1', 'I12.B002421.3_39_F.1.1', 'I12.B002423.3_39_F.1.1', 'I13.B002010.3_39_F.1.1', 'I13.MAA000901.3_10_M.1.1', 'I13.MAA000903.3_11_M.1.1', 'I16.B002010.3_39_F.1.1', 'I16.MAA000452.3_8_M.1.1', 'I16.MAA000936.3_9_M.1.1', 'I17.B002423.3_39_F.1.1', 'I17.B002427.3_39_F.1.1', 'I17.MAA000919.3_10_M.1.1', 'I18.B000633.3_56_F.1.1', 'I19.B000412.3_56_F.1.1', 'I19.B000633.3_56_F.1.1', 'I19.B002010.3_39_F.1.1', 'I2.B000633.3_56_F.1.1', 'I20.MAA000587.3_8_M.1.1', 'I20.MAA000903.3_11_M.1.1', 'I22.MAA000398.3_9_M.1.1', 'I22.MAA000399.3_9_M.1.1', 'I22.MAA000452.3_8_M.1.1', 'I3.B002427.3_39_F.1.1', 'I4.MAA000452.3_8_M.1.1', 'I5.B000636.3_56_F.1.1', 'I6.B000633.3_56_F.1.1', 'I7.MAA000936.3_9_M.1.1', 'I8.B002427.3_39_F.1.1', 'I8.MAA000452.3_8_M.1.1', 'I9.MAA000920.3_11_M.1.1', 'J1.MAA000399.3_9_M.1.1', 'J11.B000636.3_56_F.1.1', 'J12.MAA000903.3_11_M.1.1', 'J13.B000633.3_56_F.1.1', 'J13.MAA000936.3_9_M.1.1', 'J14.B000412.3_56_F.1.1', 'J14.MAA000901.3_10_M.1.1', 'J14.MAA000920.3_11_M.1.1', 'J14.MAA000936.3_9_M.1.1', 'J15.B000633.3_56_F.1.1', 'J15.B002423.3_39_F.1.1', 'J15.MAA000586.3_8_M.1.1', 'J16.B000636.3_56_F.1.1', 'J16.MAA000400.3_8_M.1.1', 'J16.MAA000920.3_11_M.1.1', 'J16.MAA000936.3_9_M.1.1', 'J17.B002011.3_38_F.1.1', 'J17.B002427.3_39_F.1.1', 'J17.MAA000398.3_9_M.1.1', 'J17.MAA000400.3_8_M.1.1', 'J17.MAA000903.3_11_M.1.1', 'J18.B002423.3_39_F.1.1', 'J18.B002428.3_38_F.1.1', 'J18.MAA000587.3_8_M.1.1', 'J19.B000412.3_56_F.1.1', 'J19.B002429.3_38_F.1.1', 'J2.B002421.3_39_F.1.1', 'J2.B002423.3_39_F.1.1', 'J2.MAA000586.3_8_M.1.1', 'J2.MAA000919.3_10_M.1.1', 'J20.B002428.3_38_F.1.1', 'J20.MAA000917.3_11_M.1.1', 'J21.B000634.3_56_F.1.1', 'J21.B002011.3_38_F.1.1', 'J22.B002427.3_39_F.1.1', 'J3.B000634.3_56_F.1.1', 'J3.MAA000586.3_8_M.1.1', 'J4.B002427.3_39_F.1.1', 'J5.B002427.3_39_F.1.1', 'J7.B000634.3_56_F.1.1', 'J7.B002010.3_39_F.1.1', 'J8.B000633.3_56_F.1.1', 'J8.MAA000587.3_8_M.1.1', 'J8.MAA000936.3_9_M.1.1', 'J9.B002011.3_38_F.1.1', 'K1.B002427.3_39_F.1.1', 'K10.MAA000901.3_10_M.1.1', 'K11.B000636.3_56_F.1.1', 'K11.B002010.3_39_F.1.1', 'K11.MAA000399.3_9_M.1.1', 'K13.B000634.3_56_F.1.1', 'K13.B002010.3_39_F.1.1', 'K13.B002011.3_38_F.1.1', 'K13.MAA000398.3_9_M.1.1', 'K14.B002428.3_38_F.1.1', 'K14.MAA000920.3_11_M.1.1', 'K15.B000634.3_56_F.1.1', 'K15.MAA000586.3_8_M.1.1', 'K16.B000633.3_56_F.1.1', 'K16.B002429.3_38_F.1.1', 'K16.MAA000399.3_9_M.1.1', 'K16.MAA000920.3_11_M.1.1', 'K17.B002011.3_38_F.1.1', 'K17.MAA000589.3_9_M.1.1', 'K17.MAA000917.3_11_M.1.1', 'K18.B002010.3_39_F.1.1', 'K18.B002421.3_39_F.1.1', 'K18.B002427.3_39_F.1.1', 'K18.MAA000586.3_8_M.1.1', 'K19.B000633.3_56_F.1.1', 'K19.MAA000587.3_8_M.1.1', 'K2.MAA000586.3_8_M.1.1', 'K20.B000634.3_56_F.1.1', 'K20.B002010.3_39_F.1.1', 'K20.B002421.3_39_F.1.1', 'K20.B002427.3_39_F.1.1', 'K22.B000633.3_56_F.1.1', 'K22.MAA000918.3_10_M.1.1', 'K3.B000634.3_56_F.1.1', 'K4.B002010.3_39_F.1.1', 'K4.MAA000398.3_9_M.1.1', 'K4.MAA000920.3_11_M.1.1', 'K5.B002427.3_39_F.1.1', 'K6.B000633.3_56_F.1.1', 'K6.B002421.3_39_F.1.1', 'K6.B002427.3_39_F.1.1', 'K6.MAA000903.3_11_M.1.1', 'K7.B002010.3_39_F.1.1', 'K7.MAA000936.3_9_M.1.1', 'K8.B002427.3_39_F.1.1', 'K8.MAA000399.3_9_M.1.1', 'K9.B002427.3_39_F.1.1', 'L1.MAA000903.3_11_M.1.1', 'L10.B000634.3_56_F.1.1', 'L10.B002011.3_38_F.1.1', 'L10.B002428.3_38_F.1.1', 'L10.MAA000919.3_10_M.1.1', 'L10.MAA000920.3_11_M.1.1', 'L11.B002010.3_39_F.1.1', 'L11.MAA000919.3_10_M.1.1', 'L12.B002010.3_39_F.1.1', 'L12.MAA000400.3_8_M.1.1', 'L13.MAA000452.3_8_M.1.1', 'L13.MAA000918.3_10_M.1.1', 'L13.MAA000936.3_9_M.1.1', 'L14.MAA000903.3_11_M.1.1', 'L14.MAA000919.3_10_M.1.1', 'L15.MAA000452.3_8_M.1.1', 'L16.B002429.3_38_F.1.1', 'L16.MAA000587.3_8_M.1.1', 'L17.MAA000398.3_9_M.1.1', 'L17.MAA000899.3_10_M.1.1', 'L18.MAA000901.3_10_M.1.1', 'L18.MAA000903.3_11_M.1.1', 'L18.MAA000919.3_10_M.1.1', 'L2.B000633.3_56_F.1.1', 'L2.B002421.3_39_F.1.1', 'L2.MAA000399.3_9_M.1.1', 'L20.B002427.3_39_F.1.1', 'L20.MAA000399.3_9_M.1.1', 'L20.MAA000586.3_8_M.1.1', 'L20.MAA000903.3_11_M.1.1', 'L21.MAA000399.3_9_M.1.1', 'L21.MAA000919.3_10_M.1.1', 'L22.B000633.3_56_F.1.1', 'L3.B002010.3_39_F.1.1', 'L3.B002421.3_39_F.1.1', 'L3.B002428.3_38_F.1.1', 'L3.MAA000399.3_9_M.1.1', 'L3.MAA000400.3_8_M.1.1', 'L3.MAA000920.3_11_M.1.1', 'L4.MAA000587.3_8_M.1.1', 'L6.B000412.3_56_F.1.1', 'L6.B000633.3_56_F.1.1', 'L6.B002421.3_39_F.1.1', 'L6.B002427.3_39_F.1.1', 'L6.MAA000399.3_9_M.1.1', 'L6.MAA000936.3_9_M.1.1', 'L7.MAA000917.3_11_M.1.1', 'L8.B002010.3_39_F.1.1', 'L8.MAA000917.3_11_M.1.1', 'L8.MAA000918.3_10_M.1.1', 'L9.B000634.3_56_F.1.1', 'L9.B002427.3_39_F.1.1', 'L9.MAA000398.3_9_M.1.1', 'M10.B000412.3_56_F.1.1', 'M10.B002010.3_39_F.1.1', 'M10.B002423.3_39_F.1.1', 'M10.MAA000936.3_9_M.1.1', 'M11.B002011.3_38_F.1.1', 'M11.MAA000589.3_9_M.1.1', 'M12.B000634.3_56_F.1.1', 'M14.B002010.3_39_F.1.1', 'M14.B002421.3_39_F.1.1', 'M14.MAA000903.3_11_M.1.1', 'M15.B002421.3_39_F.1.1', 'M15.MAA000918.3_10_M.1.1', 'M16.MAA000399.3_9_M.1.1', 'M16.MAA000589.3_9_M.1.1', 'M16.MAA000899.3_10_M.1.1', 'M17.MAA000399.3_9_M.1.1', 'M18.B000633.3_56_F.1.1', 'M18.MAA000586.3_8_M.1.1', 'M18.MAA000903.3_11_M.1.1', 'M19.MAA000398.3_9_M.1.1', 'M19.MAA000936.3_9_M.1.1', 'M2.B002427.3_39_F.1.1', 'M2.B002428.3_38_F.1.1', 'M21.B000633.3_56_F.1.1', 'M21.MAA000586.3_8_M.1.1', 'M22.B002421.3_39_F.1.1', 'M22.MAA000398.3_9_M.1.1', 'M3.B000633.3_56_F.1.1', 'M3.B000636.3_56_F.1.1', 'M3.B002427.3_39_F.1.1', 'M3.MAA000452.3_8_M.1.1', 'M3.MAA000587.3_8_M.1.1', 'M4.B000633.3_56_F.1.1', 'M4.B002428.3_38_F.1.1', 'M6.B002428.3_38_F.1.1', 'M7.MAA000399.3_9_M.1.1', 'M7.MAA000903.3_11_M.1.1', 'M8.MAA000587.3_8_M.1.1', 'M9.B000633.3_56_F.1.1', 'M9.B002423.3_39_F.1.1', 'M9.MAA000903.3_11_M.1.1', 'M9.MAA000919.3_10_M.1.1', 'N1.B000633.3_56_F.1.1', 'N1.B002427.3_39_F.1.1', 'N1.MAA000399.3_9_M.1.1', 'N10.MAA000903.3_11_M.1.1', 'N11.B000634.3_56_F.1.1', 'N11.B002423.3_39_F.1.1', 'N11.MAA000936.3_9_M.1.1', 'N13.B002421.3_39_F.1.1', 'N13.MAA000919.3_10_M.1.1', 'N14.B002428.3_38_F.1.1', 'N16.B000633.3_56_F.1.1', 'N16.MAA000936.3_9_M.1.1', 'N17.B000633.3_56_F.1.1', 'N17.MAA000919.3_10_M.1.1', 'N18.B000412.3_56_F.1.1', 'N18.B002423.3_39_F.1.1', 'N18.MAA000917.3_11_M.1.1', 'N19.B002010.3_39_F.1.1', 'N19.B002423.3_39_F.1.1', 'N2.B000633.3_56_F.1.1', 'N2.B002421.3_39_F.1.1', 'N20.MAA000903.3_11_M.1.1', 'N21.B000634.3_56_F.1.1', 'N21.B002428.3_38_F.1.1', 'N21.B002429.3_38_F.1.1', 'N21.MAA000919.3_10_M.1.1', 'N22.MAA000399.3_9_M.1.1', 'N3.B000636.3_56_F.1.1', 'N3.B002423.3_39_F.1.1', 'N3.MAA000903.3_11_M.1.1', 'N3.MAA000919.3_10_M.1.1', 'N4.MAA000452.3_8_M.1.1', 'N6.MAA000587.3_8_M.1.1', 'N7.MAA000919.3_10_M.1.1', 'N8.MAA000452.3_8_M.1.1', 'N8.MAA000920.3_11_M.1.1', 'N9.B002423.3_39_F.1.1', 'N9.MAA000918.3_10_M.1.1', 'O1.B002427.3_39_F.1.1', 'O1.MAA000903.3_11_M.1.1', 'O11.MAA000903.3_11_M.1.1', 'O11.MAA000920.3_11_M.1.1', 'O12.MAA000589.3_9_M.1.1', 'O13.MAA000399.3_9_M.1.1', 'O13.MAA000920.3_11_M.1.1', 'O14.MAA000398.3_9_M.1.1', 'O14.MAA000399.3_9_M.1.1', 'O16.B000633.3_56_F.1.1', 'O17.MAA000898.3_11_M.1.1', 'O18.B002421.3_39_F.1.1', 'O18.MAA000398.3_9_M.1.1', 'O19.B000636.3_56_F.1.1', 'O2.B002423.3_39_F.1.1', 'O2.B002429.3_38_F.1.1', 'O2.MAA000919.3_10_M.1.1', 'O20.B002428.3_38_F.1.1', 'O20.MAA000920.3_11_M.1.1', 'O21.B002010.3_39_F.1.1', 'O21.B002421.3_39_F.1.1', 'O21.MAA000400.3_8_M.1.1', 'O21.MAA000586.3_8_M.1.1', 'O21.MAA000899.3_10_M.1.1', 'O22.MAA000399.3_9_M.1.1', 'O3.MAA000918.3_10_M.1.1', 'O3.MAA000919.3_10_M.1.1', 'O4.MAA000917.3_11_M.1.1', 'O5.MAA000903.3_11_M.1.1', 'O6.B002427.3_39_F.1.1', 'O6.MAA000919.3_10_M.1.1', 'O6.MAA000920.3_11_M.1.1', 'O7.B000634.3_56_F.1.1', 'O7.B002010.3_39_F.1.1', 'O8.B000634.3_56_F.1.1', 'O8.B002423.3_39_F.1.1', 'O8.MAA000919.3_10_M.1.1', 'O9.B002427.3_39_F.1.1', 'O9.MAA000587.3_8_M.1.1', 'P1.B002421.3_39_F.1.1', 'P1.MAA000903.3_11_M.1.1', 'P10.MAA000399.3_9_M.1.1', 'P11.MAA000919.3_10_M.1.1', 'P11.MAA000936.3_9_M.1.1', 'P12.MAA000903.3_11_M.1.1', 'P12.MAA000919.3_10_M.1.1', 'P13.B002423.3_39_F.1.1', 'P13.MAA000400.3_8_M.1.1', 'P13.MAA000586.3_8_M.1.1', 'P15.B000634.3_56_F.1.1', 'P15.MAA000586.3_8_M.1.1', 'P15.MAA000898.3_11_M.1.1', 'P16.B000633.3_56_F.1.1', 'P16.B000636.3_56_F.1.1', 'P16.B002428.3_38_F.1.1', 'P16.MAA000586.3_8_M.1.1', 'P16.MAA000899.3_10_M.1.1', 'P17.B002421.3_39_F.1.1', 'P17.MAA000918.3_10_M.1.1', 'P18.B000634.3_56_F.1.1', 'P18.B002429.3_38_F.1.1', 'P18.MAA000586.3_8_M.1.1', 'P18.MAA000899.3_10_M.1.1', 'P19.B000633.3_56_F.1.1', 'P19.MAA000398.3_9_M.1.1', 'P2.B002421.3_39_F.1.1', 'P2.MAA000899.3_10_M.1.1', 'P20.B002423.3_39_F.1.1', 'P20.MAA000398.3_9_M.1.1', 'P20.MAA000901.3_10_M.1.1', 'P21.B002011.3_38_F.1.1', 'P21.MAA000400.3_8_M.1.1', 'P22.MAA000399.3_9_M.1.1', 'P22.MAA000936.3_9_M.1.1', 'P3.MAA000936.3_9_M.1.1', 'P4.MAA000400.3_8_M.1.1', 'P5.B002427.3_39_F.1.1', 'P5.MAA000586.3_8_M.1.1', 'P5.MAA000936.3_9_M.1.1', 'P6.B002010.3_39_F.1.1', 'P6.MAA000400.3_8_M.1.1', 'P6.MAA000903.3_11_M.1.1', 'P7.B000412.3_56_F.1.1', 'P8.B002428.3_38_F.1.1', 'P8.MAA000586.3_8_M.1.1', 'P9.B002427.3_39_F.1.1', 'P9.MAA000399.3_9_M.1.1'] not in index\""
     ]
    }
   ],
   "source": [
    "[cgenesA, xpairs, tspRF] = pySCN.scn_train(expTrain, nTopGenes = 100, nRand = 0,\n",
    "                                           nTrees = 1000 ,nTopGenePairs = 100, dLevel = 'cell_ontology_class', \n",
    "                                           stratify=True, limitToHVG=True)"
   ]
  },
  {
   "cell_type": "code",
   "execution_count": 15,
   "metadata": {},
   "outputs": [
    {
     "ename": "NameError",
     "evalue": "name 'cgenesA' is not defined",
     "output_type": "error",
     "traceback": [
      "\u001b[0;31m---------------------------------------------------------------------------\u001b[0m",
      "\u001b[0;31mNameError\u001b[0m                                 Traceback (most recent call last)",
      "\u001b[0;32m/var/folders/0x/rjfqjlc51lb7ncwzzljb009m0000gn/T/ipykernel_86634/1333271130.py\u001b[0m in \u001b[0;36m<module>\u001b[0;34m\u001b[0m\n\u001b[1;32m      1\u001b[0m \u001b[0;31m#classifier on held out test set\u001b[0m\u001b[0;34m\u001b[0m\u001b[0;34m\u001b[0m\u001b[0m\n\u001b[1;32m      2\u001b[0m \u001b[0mplt\u001b[0m\u001b[0;34m.\u001b[0m\u001b[0mfigure\u001b[0m\u001b[0;34m(\u001b[0m\u001b[0mdpi\u001b[0m\u001b[0;34m=\u001b[0m\u001b[0;36m1000\u001b[0m\u001b[0;34m)\u001b[0m\u001b[0;34m\u001b[0m\u001b[0;34m\u001b[0m\u001b[0m\n\u001b[0;32m----> 3\u001b[0;31m \u001b[0madVal\u001b[0m \u001b[0;34m=\u001b[0m \u001b[0mpySCN\u001b[0m\u001b[0;34m.\u001b[0m\u001b[0mscn_classify\u001b[0m\u001b[0;34m(\u001b[0m\u001b[0mexpVal\u001b[0m\u001b[0;34m,\u001b[0m \u001b[0mcgenesA\u001b[0m\u001b[0;34m,\u001b[0m \u001b[0mxpairs\u001b[0m\u001b[0;34m,\u001b[0m \u001b[0mtspRF\u001b[0m\u001b[0;34m,\u001b[0m \u001b[0mnrand\u001b[0m \u001b[0;34m=\u001b[0m \u001b[0;36m0\u001b[0m\u001b[0;34m)\u001b[0m\u001b[0;34m\u001b[0m\u001b[0;34m\u001b[0m\u001b[0m\n\u001b[0m\u001b[1;32m      4\u001b[0m \u001b[0massessment\u001b[0m \u001b[0;34m=\u001b[0m  \u001b[0mpySCN\u001b[0m\u001b[0;34m.\u001b[0m\u001b[0massess_comm\u001b[0m\u001b[0;34m(\u001b[0m\u001b[0mexpTrain\u001b[0m\u001b[0;34m,\u001b[0m \u001b[0madVal\u001b[0m\u001b[0;34m,\u001b[0m \u001b[0mresolution\u001b[0m \u001b[0;34m=\u001b[0m \u001b[0;36m0.005\u001b[0m\u001b[0;34m,\u001b[0m \u001b[0mnRand\u001b[0m \u001b[0;34m=\u001b[0m \u001b[0;36m0\u001b[0m\u001b[0;34m,\u001b[0m \u001b[0mdLevelSID\u001b[0m \u001b[0;34m=\u001b[0m \u001b[0;34m\"cell\"\u001b[0m\u001b[0;34m,\u001b[0m \u001b[0mclassTrain\u001b[0m \u001b[0;34m=\u001b[0m \u001b[0;34m\"cell_ontology_class\"\u001b[0m\u001b[0;34m,\u001b[0m \u001b[0mclassQuery\u001b[0m \u001b[0;34m=\u001b[0m \u001b[0;34m\"cell_ontology_class\"\u001b[0m\u001b[0;34m)\u001b[0m\u001b[0;34m\u001b[0m\u001b[0;34m\u001b[0m\u001b[0m\n\u001b[1;32m      5\u001b[0m \u001b[0;34m\u001b[0m\u001b[0m\n",
      "\u001b[0;31mNameError\u001b[0m: name 'cgenesA' is not defined"
     ]
    },
    {
     "data": {
      "text/plain": [
       "<Figure size 6000x4000 with 0 Axes>"
      ]
     },
     "metadata": {},
     "output_type": "display_data"
    }
   ],
   "source": [
    "#classifier on held out test set\n",
    "plt.figure(dpi=1000)\n",
    "adVal = pySCN.scn_classify(expVal, cgenesA, xpairs, tspRF, nrand = 0)\n",
    "assessment =  pySCN.assess_comm(expTrain, adVal, resolution = 0.005, nRand = 0, dLevelSID = \"cell\", classTrain = \"cell_ontology_class\", classQuery = \"cell_ontology_class\")\n",
    "\n",
    "pySCN.plot_PRs(assessment)\n",
    "plt.show()\n",
    "plt.savefig(\"pyscn_testsetprc.png\") #save as png"
   ]
  },
  {
   "cell_type": "code",
   "execution_count": null,
   "metadata": {},
   "outputs": [],
   "source": [
    "#use classifier on old hsc data\n",
    "adata_mcm_classified = pySCN.scn_classify(adata_mcm_classifier, cgenesA, xpairs, tspRF, nrand = 0)\n",
    "\n"
   ]
  },
  {
   "cell_type": "code",
   "execution_count": null,
   "metadata": {},
   "outputs": [],
   "source": [
    "adata_mcm_classified.obs"
   ]
  },
  {
   "cell_type": "code",
   "execution_count": null,
   "metadata": {},
   "outputs": [],
   "source": [
    "#use classifier on human data\n",
    "\n",
    "human_classified = pySCN.scn_classify(human, cgenesA, xpairs, tspRF, nrand = 0)\n",
    "human_classified.obs"
   ]
  },
  {
   "cell_type": "code",
   "execution_count": null,
   "metadata": {},
   "outputs": [],
   "source": [
    "ax = sc.pl.heatmap(human_classified, human_classified.var_names.values, groupby='SCN_class', cmap='viridis', dendrogram=False, swap_axes=True)\n"
   ]
  },
  {
   "cell_type": "code",
   "execution_count": null,
   "metadata": {},
   "outputs": [],
   "source": [
    "human_clusters=pd.read_csv('/Users/wvcui/Desktop/OneDrive - Johns Hopkins/Sp22/Comp SC/final proj/clusters.tsv',sep='\\t')"
   ]
  },
  {
   "cell_type": "code",
   "execution_count": null,
   "metadata": {},
   "outputs": [],
   "source": [
    "human_clusters"
   ]
  },
  {
   "cell_type": "code",
   "execution_count": null,
   "metadata": {},
   "outputs": [],
   "source": [
    "human_class = human_classified.copy()\n",
    "sc.pp.filter_genes(human_class, min_cells=5)\n",
    "sc.pp.normalize_per_cell(human_class, counts_per_cell_after=1e4)\n",
    "sc.pp.log1p(human_class)\n",
    "\n",
    "sc.pp.highly_variable_genes(human_class, min_mean=0.0125, max_mean=4, min_disp=0.5)\n",
    "\n",
    "human_class.raw = human_class\n",
    "sc.pp.scale(human_class, max_value=10)\n",
    "sc.tl.pca(human_class, n_comps=100)\n",
    "\n",
    "sc.pl.pca_variance_ratio(human_class, 100)"
   ]
  },
  {
   "cell_type": "code",
   "execution_count": null,
   "metadata": {},
   "outputs": [],
   "source": [
    "npcs = 20\n",
    "sc.pp.neighbors(human_class, n_neighbors=10, n_pcs=npcs)\n",
    "sc.tl.leiden(human_class,.1)\n",
    "sc.tl.umap(human_class, .5)\n",
    "sc.pl.umap(human_class, color=[\"leiden\", \"SCN_class\"], alpha=.9, s=15, legend_loc='on data')"
   ]
  },
  {
   "cell_type": "code",
   "execution_count": null,
   "metadata": {},
   "outputs": [],
   "source": []
  },
  {
   "cell_type": "code",
   "execution_count": null,
   "metadata": {},
   "outputs": [],
   "source": []
  },
  {
   "cell_type": "code",
   "execution_count": null,
   "metadata": {},
   "outputs": [],
   "source": []
  },
  {
   "cell_type": "code",
   "execution_count": null,
   "metadata": {},
   "outputs": [],
   "source": [
    "props={}\n",
    "for i in adata_mcm_classified.obs['Timepoint (days)'].unique():\n",
    "    props[i]={}\n",
    "    for j in adata_mcm_classified[adata_mcm_classified.obs['Timepoint (days)']==i].obs['SCN_class'].unique():\n",
    "        props[i][j]=sum(adata_mcm_classified[adata_mcm_classified.obs['Timepoint (days)']==i].obs['SCN_class']==j)"
   ]
  },
  {
   "cell_type": "code",
   "execution_count": null,
   "metadata": {},
   "outputs": [],
   "source": [
    "scn_calls=pd.DataFrame(props).fillna(0)\n",
    "scn_calls.update(scn_calls.div(scn_calls.sum(axis=0),axis=1))\n",
    "scn_calls=scn_calls[['-1','1','2','3','7','14']]"
   ]
  },
  {
   "cell_type": "code",
   "execution_count": null,
   "metadata": {
    "scrolled": true
   },
   "outputs": [],
   "source": [
    "scn_calls"
   ]
  },
  {
   "cell_type": "code",
   "execution_count": null,
   "metadata": {},
   "outputs": [],
   "source": [
    "plt.figure(figsize=(10, 6), dpi=80)\n",
    "\n",
    "plt.bar(scn_calls.columns,scn_calls.loc['cardiac muscle cell'],color='red')\n",
    "#plt.bar(scn_calls.columns, scn_calls.loc['rand'], bottom=scn_calls.loc['cardiac muscle cell'], color='grey')\n",
    "plt.bar(scn_calls.columns, scn_calls.loc['leukocyte'], bottom=scn_calls.loc['cardiac muscle cell'], color='pink')\n",
    "plt.bar(scn_calls.columns, scn_calls.loc['fibroblast'], bottom=scn_calls.loc['leukocyte']+scn_calls.loc['cardiac muscle cell'], color='green')\n",
    "plt.bar(scn_calls.columns, scn_calls.loc['endothelial cell'], bottom=scn_calls.loc['leukocyte']+scn_calls.loc['cardiac muscle cell']+scn_calls.loc['fibroblast'], color='maroon')\n",
    "plt.bar(scn_calls.columns, scn_calls.loc['endocardial cell'], bottom=scn_calls.loc['leukocyte']+scn_calls.loc['cardiac muscle cell']+scn_calls.loc['fibroblast']+scn_calls.loc['endothelial cell'], color='purple')\n",
    "\n",
    "\n",
    "plt.legend([\"cardiac muscle cell\", \"leukocyte\", \"fibroblast\",'endothelial cell','endocardial cell'],loc='upper right',bbox_to_anchor=(1.25, 1.0))\n",
    "plt.xlabel('Days in Vitro (DIV)')\n",
    "plt.ylabel('Cell Type Proportion')\n",
    "plt.title('pySCN cell type calls of Mouse Engineered Cardiomyocyte transdifferentiation Experiment')\n",
    "plt.savefig(\"pyscn_stackedbarplot.png\") #save as png\n"
   ]
  },
  {
   "cell_type": "code",
   "execution_count": null,
   "metadata": {},
   "outputs": [],
   "source": [
    "props={}\n",
    "for i in adata_mcm_classified.obs['Timepoint (days)'].unique():\n",
    "    props[i]={}\n",
    "    for j in adata_mcm_classified[adata_mcm_classified.obs['Timepoint (days)']==i].obs['SCN_class'].unique():\n",
    "        props[i][j]=sum(adata_mcm_classified[adata_mcm_classified.obs['Timepoint (days)']==i].obs['SCN_class']==j)"
   ]
  },
  {
   "cell_type": "code",
   "execution_count": null,
   "metadata": {},
   "outputs": [],
   "source": [
    "scn_calls=pd.DataFrame(props).fillna(0)\n",
    "scn_calls.update(scn_calls.div(scn_calls.sum(axis=0),axis=1))\n",
    "scn_calls=scn_calls[['-1','1','2','3','7','14']]"
   ]
  },
  {
   "cell_type": "code",
   "execution_count": null,
   "metadata": {
    "scrolled": true
   },
   "outputs": [],
   "source": [
    "scn_calls"
   ]
  },
  {
   "cell_type": "code",
   "execution_count": null,
   "metadata": {},
   "outputs": [],
   "source": [
    "plt.figure(figsize=(10, 6), dpi=80)\n",
    "\n",
    "plt.bar(scn_calls.columns,scn_calls.loc['cardiac muscle cell'],color='red')\n",
    "#plt.bar(scn_calls.columns, scn_calls.loc['rand'], bottom=scn_calls.loc['cardiac muscle cell'], color='grey')\n",
    "plt.bar(scn_calls.columns, scn_calls.loc['leukocyte'], bottom=scn_calls.loc['cardiac muscle cell'], color='pink')\n",
    "plt.bar(scn_calls.columns, scn_calls.loc['fibroblast'], bottom=scn_calls.loc['leukocyte']+scn_calls.loc['cardiac muscle cell'], color='green')\n",
    "plt.bar(scn_calls.columns, scn_calls.loc['endothelial cell'], bottom=scn_calls.loc['leukocyte']+scn_calls.loc['cardiac muscle cell']+scn_calls.loc['fibroblast'], color='maroon')\n",
    "plt.bar(scn_calls.columns, scn_calls.loc['endocardial cell'], bottom=scn_calls.loc['leukocyte']+scn_calls.loc['cardiac muscle cell']+scn_calls.loc['fibroblast']+scn_calls.loc['endothelial cell'], color='purple')\n",
    "\n",
    "\n",
    "plt.legend([\"cardiac muscle cell\", \"leukocyte\", \"fibroblast\",'endothelial cell','endocardial cell'],loc='upper right',bbox_to_anchor=(1.25, 1.0))\n",
    "plt.xlabel('Days in Vitro (DIV)')\n",
    "plt.ylabel('Cell Type Proportion')\n",
    "plt.title('pySCN cell type calls of Mouse Engineered Cardiomyocyte transdifferentiation Experiment')\n",
    "plt.savefig(\"pyscn_stackedbarplot.png\") #save as png\n"
   ]
  },
  {
   "cell_type": "markdown",
   "metadata": {},
   "source": [
    "## Q2"
   ]
  },
  {
   "cell_type": "code",
   "execution_count": null,
   "metadata": {},
   "outputs": [],
   "source": [
    "adata_kannan=sc.read_h5ad('/Users/wvcui/Desktop/OneDrive - Johns Hopkins/Sp22/Comp SC/final proj/perinatal_reference_data/Kannan_perinatal_reference.h5ad')"
   ]
  },
  {
   "cell_type": "code",
   "execution_count": null,
   "metadata": {},
   "outputs": [],
   "source": [
    "adata_kannan #raw counts"
   ]
  },
  {
   "cell_type": "code",
   "execution_count": null,
   "metadata": {},
   "outputs": [],
   "source": [
    "adata_mcm_raw.obs['scn_class']=adata_mcm_classified.obs['SCN_class']\n",
    "adata_mcm_classifier_mcmcalls=adata_mcm_raw[adata_mcm_raw.obs['scn_class']=='cardiac muscle cell']"
   ]
  },
  {
   "cell_type": "code",
   "execution_count": null,
   "metadata": {},
   "outputs": [],
   "source": [
    "#finding matching genes between datasets\n",
    "genesTrain = adata_kannan.var_names\n",
    "genesQuery = adata_mcm_classifier_mcmcalls.var_names\n",
    "cgenes = genesTrain.intersection(genesQuery)\n",
    "#around 14k genes remanining"
   ]
  },
  {
   "cell_type": "code",
   "execution_count": null,
   "metadata": {},
   "outputs": [],
   "source": [
    "#subsetting for common genes\n",
    "adata_reference_cgene = adata_kannan[:,cgenes]\n",
    "adata_mcm_classifier_mcmcalls = adata_mcm_classifier_mcmcalls[:,cgenes].copy()\n",
    "\n",
    "#following the pyscCellNet vignette on github. im guessing cells with more than 500 \n",
    "adata_mcm_classifier_mcmcalls = adata_mcm_classifier_mcmcalls[adata_mcm_classifier_mcmcalls.obs[\"n_genes_by_counts\"]>=500,:].copy()\n",
    "\n",
    "\n",
    "\n"
   ]
  },
  {
   "cell_type": "code",
   "execution_count": null,
   "metadata": {},
   "outputs": [],
   "source": [
    "adata_reference_cgene.obs['timepoint'].unique()"
   ]
  },
  {
   "cell_type": "code",
   "execution_count": null,
   "metadata": {},
   "outputs": [],
   "source": [
    "expTrain, expVal = pySCN.splitCommonAnnData(adata_reference_cgene, ncells=200,dLevel='timepoint')\n",
    "\n",
    "\n"
   ]
  },
  {
   "cell_type": "code",
   "execution_count": null,
   "metadata": {},
   "outputs": [],
   "source": [
    "[cgenesA, xpairs, tspRF] = pySCN.scn_train(expTrain, nTopGenes = 100, nRand = 0,\n",
    "                                           nTrees = 1000 ,nTopGenePairs = 100, dLevel = 'timepoint', \n",
    "                                           stratify=True, limitToHVG=True)"
   ]
  },
  {
   "cell_type": "code",
   "execution_count": null,
   "metadata": {},
   "outputs": [],
   "source": [
    "plt.figure(dpi=1000)\n",
    "ax = sc.pl.heatmap(adVal, adVal.var_names.values, groupby='SCN_class', cmap='viridis', dendrogram=False, swap_axes=True)\n"
   ]
  },
  {
   "cell_type": "code",
   "execution_count": null,
   "metadata": {},
   "outputs": [],
   "source": [
    "#use classifier on old hsc data\n",
    "adata_mcm_classified = pySCN.scn_classify(adata_mcm_classifier_mcmcalls, cgenesA, xpairs, tspRF, nrand = 0)\n",
    "\n",
    "\n"
   ]
  },
  {
   "cell_type": "code",
   "execution_count": null,
   "metadata": {},
   "outputs": [],
   "source": [
    "props={}\n",
    "for i in adata_mcm_classified.obs['Timepoint (days)'].unique():\n",
    "    props[i]={}\n",
    "    for j in adata_mcm_classified[adata_mcm_classified.obs['Timepoint (days)']==i].obs['SCN_class'].unique():\n",
    "        props[i][j]=sum(adata_mcm_classified[adata_mcm_classified.obs['Timepoint (days)']==i].obs['SCN_class']==j)"
   ]
  },
  {
   "cell_type": "code",
   "execution_count": null,
   "metadata": {},
   "outputs": [],
   "source": [
    "scn_calls=pd.DataFrame(props).fillna(0)\n",
    "scn_calls.update(scn_calls.div(scn_calls.sum(axis=0),axis=1))\n",
    "#scn_calls=scn_calls[['-1','1','2','3','7','14']]"
   ]
  },
  {
   "cell_type": "code",
   "execution_count": null,
   "metadata": {},
   "outputs": [],
   "source": [
    "scn_calls=scn_calls[['1','2','3','7','14']]"
   ]
  },
  {
   "cell_type": "code",
   "execution_count": null,
   "metadata": {},
   "outputs": [],
   "source": [
    "plt.figure(figsize=(10, 6), dpi=80)\n",
    "\n",
    "plt.bar(scn_calls.columns,scn_calls.loc['e14'],color='red')\n",
    "#plt.bar(scn_calls.columns, scn_calls.loc['rand'], bottom=scn_calls.loc['cardiac muscle cell'], color='grey')\n",
    "plt.bar(scn_calls.columns, scn_calls.loc['e18'], bottom=scn_calls.loc['e14'], color='pink')\n",
    "plt.bar(scn_calls.columns, scn_calls.loc['p8'], bottom=scn_calls.loc['e14']+scn_calls.loc['e18'], color='green')\n",
    "plt.bar(scn_calls.columns, scn_calls.loc['p11'], bottom=scn_calls.loc['e14']+scn_calls.loc['e18']+scn_calls.loc['p8'], color='maroon')\n",
    "plt.bar(scn_calls.columns, scn_calls.loc['p14'], bottom=scn_calls.loc['e14']+scn_calls.loc['e18']+scn_calls.loc['p8']+scn_calls.loc['p11'], color='purple')\n",
    "plt.bar(scn_calls.columns, scn_calls.loc['p18'], bottom=scn_calls.loc['e14']+scn_calls.loc['e18']+scn_calls.loc['p8']+scn_calls.loc['p11']+scn_calls.loc['p14'], color='grey')\n",
    "plt.bar(scn_calls.columns, scn_calls.loc['p22'], bottom=scn_calls.loc['e14']+scn_calls.loc['e18']+scn_calls.loc['p8']+scn_calls.loc['p11']+scn_calls.loc['p14']+scn_calls.loc['p18'], color='black')\n",
    "plt.bar(scn_calls.columns, scn_calls.loc['p35'], bottom=scn_calls.loc['e14']+scn_calls.loc['e18']+scn_calls.loc['p8']+scn_calls.loc['p11']+scn_calls.loc['p14']+scn_calls.loc['p18']+scn_calls.loc['p22'], color='blue')\n",
    "plt.bar(scn_calls.columns, scn_calls.loc['p56'], bottom=scn_calls.loc['e14']+scn_calls.loc['e18']+scn_calls.loc['p8']+scn_calls.loc['p11']+scn_calls.loc['p14']+scn_calls.loc['p18']+scn_calls.loc['p22']+scn_calls.loc['p35'], color='yellow')\n",
    "\n",
    "\n",
    "\n",
    "\n",
    "\n",
    "plt.legend([\"e14\", \"e18\", \"p8\",'p11','p14','p18','p22','p35','p56'],loc='upper right',bbox_to_anchor=(1.25, 1.0))\n",
    "plt.xlabel('Days in Vitro (DIV)')\n",
    "plt.ylabel('Cell Type Proportion')\n",
    "plt.title('pySCN cell type calls of Mouse Engineered Cardiomyocyte transdifferentiation Experiment')\n",
    "plt.savefig(\"pyscn_stackedbarplot.png\") #save as png\n",
    "\n"
   ]
  },
  {
   "cell_type": "code",
   "execution_count": null,
   "metadata": {},
   "outputs": [],
   "source": []
  }
 ],
 "metadata": {
  "kernelspec": {
   "display_name": "Python 3 (ipykernel)",
   "language": "python",
   "name": "python3"
  },
  "language_info": {
   "codemirror_mode": {
    "name": "ipython",
    "version": 3
   },
   "file_extension": ".py",
   "mimetype": "text/x-python",
   "name": "python",
   "nbconvert_exporter": "python",
   "pygments_lexer": "ipython3",
   "version": "3.9.7"
  }
 },
 "nbformat": 4,
 "nbformat_minor": 4
}
